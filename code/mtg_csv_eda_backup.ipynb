{
 "cells": [
  {
   "cell_type": "code",
   "execution_count": 2,
   "metadata": {},
   "outputs": [],
   "source": [
    "import pandas as pd\n",
    "import numpy as np\n",
    "import matplotlib.pyplot as plt\n",
    "from pandas.api.types import infer_dtype"
   ]
  },
  {
   "cell_type": "code",
   "execution_count": 4,
   "metadata": {},
   "outputs": [
    {
     "name": "stderr",
     "output_type": "stream",
     "text": [
      "C:\\Users\\ellio\\AppData\\Local\\Temp\\ipykernel_15100\\3310666353.py:1: DtypeWarning: Columns (3,7,12,16,20,23,25,26,30,31,32,33,35,39,40,41,47,52,53,61,62,66,68) have mixed types. Specify dtype option on import or set low_memory=False.\n",
      "  cards = pd.read_csv('cards.csv')\n"
     ]
    }
   ],
   "source": [
    "cards = pd.read_csv('cards.csv')"
   ]
  },
  {
   "cell_type": "code",
   "execution_count": 5,
   "metadata": {},
   "outputs": [
    {
     "data": {
      "text/plain": [
       "Index(['artist', 'artistIds', 'asciiName', 'attractionLights', 'availability',\n",
       "       'boosterTypes', 'borderColor', 'cardParts', 'colorIdentity',\n",
       "       'colorIndicator', 'colors', 'defense', 'duelDeck', 'edhrecRank',\n",
       "       'edhrecSaltiness', 'faceConvertedManaCost', 'faceFlavorName',\n",
       "       'faceManaValue', 'faceName', 'finishes', 'flavorName', 'flavorText',\n",
       "       'frameEffects', 'frameVersion', 'hand', 'hasAlternativeDeckLimit',\n",
       "       'hasContentWarning', 'hasFoil', 'hasNonFoil', 'isAlternative',\n",
       "       'isFullArt', 'isFunny', 'isOnlineOnly', 'isOversized', 'isPromo',\n",
       "       'isRebalanced', 'isReprint', 'isReserved', 'isStarter',\n",
       "       'isStorySpotlight', 'isTextless', 'isTimeshifted', 'keywords',\n",
       "       'language', 'layout', 'leadershipSkills', 'life', 'loyalty', 'manaCost',\n",
       "       'manaValue', 'name', 'number', 'originalPrintings',\n",
       "       'originalReleaseDate', 'originalText', 'originalType', 'otherFaceIds',\n",
       "       'power', 'printings', 'promoTypes', 'rarity', 'rebalancedPrintings',\n",
       "       'relatedCards', 'securityStamp', 'setCode', 'side', 'signature',\n",
       "       'sourceProducts', 'subsets', 'subtypes', 'supertypes', 'text',\n",
       "       'toughness', 'type', 'types', 'uuid', 'variations', 'watermark'],\n",
       "      dtype='object')"
      ]
     },
     "execution_count": 5,
     "metadata": {},
     "output_type": "execute_result"
    }
   ],
   "source": [
    "cards.columns"
   ]
  },
  {
   "cell_type": "code",
   "execution_count": 6,
   "metadata": {},
   "outputs": [
    {
     "data": {
      "text/html": [
       "<div>\n",
       "<style scoped>\n",
       "    .dataframe tbody tr th:only-of-type {\n",
       "        vertical-align: middle;\n",
       "    }\n",
       "\n",
       "    .dataframe tbody tr th {\n",
       "        vertical-align: top;\n",
       "    }\n",
       "\n",
       "    .dataframe thead th {\n",
       "        text-align: right;\n",
       "    }\n",
       "</style>\n",
       "<table border=\"1\" class=\"dataframe\">\n",
       "  <thead>\n",
       "    <tr style=\"text-align: right;\">\n",
       "      <th></th>\n",
       "      <th>borderColor</th>\n",
       "      <th>colors</th>\n",
       "      <th>keywords</th>\n",
       "      <th>manaCost</th>\n",
       "      <th>manaValue</th>\n",
       "      <th>power</th>\n",
       "      <th>printings</th>\n",
       "      <th>rarity</th>\n",
       "      <th>setCode</th>\n",
       "      <th>subtypes</th>\n",
       "      <th>supertypes</th>\n",
       "      <th>text</th>\n",
       "      <th>toughness</th>\n",
       "      <th>type</th>\n",
       "      <th>types</th>\n",
       "    </tr>\n",
       "    <tr>\n",
       "      <th>name</th>\n",
       "      <th></th>\n",
       "      <th></th>\n",
       "      <th></th>\n",
       "      <th></th>\n",
       "      <th></th>\n",
       "      <th></th>\n",
       "      <th></th>\n",
       "      <th></th>\n",
       "      <th></th>\n",
       "      <th></th>\n",
       "      <th></th>\n",
       "      <th></th>\n",
       "      <th></th>\n",
       "      <th></th>\n",
       "      <th></th>\n",
       "    </tr>\n",
       "  </thead>\n",
       "  <tbody>\n",
       "    <tr>\n",
       "      <th>Ancestor's Chosen</th>\n",
       "      <td>black</td>\n",
       "      <td>W</td>\n",
       "      <td>First strike</td>\n",
       "      <td>{5}{W}{W}</td>\n",
       "      <td>7.0</td>\n",
       "      <td>4</td>\n",
       "      <td>10E, JUD, UMA</td>\n",
       "      <td>uncommon</td>\n",
       "      <td>10E</td>\n",
       "      <td>Human, Cleric</td>\n",
       "      <td>NaN</td>\n",
       "      <td>First strike (This creature deals combat damag...</td>\n",
       "      <td>4</td>\n",
       "      <td>Creature — Human Cleric</td>\n",
       "      <td>Creature</td>\n",
       "    </tr>\n",
       "    <tr>\n",
       "      <th>Ancestor's Chosen</th>\n",
       "      <td>black</td>\n",
       "      <td>W</td>\n",
       "      <td>First strike</td>\n",
       "      <td>{5}{W}{W}</td>\n",
       "      <td>7.0</td>\n",
       "      <td>4</td>\n",
       "      <td>10E, JUD, UMA</td>\n",
       "      <td>uncommon</td>\n",
       "      <td>10E</td>\n",
       "      <td>Human, Cleric</td>\n",
       "      <td>NaN</td>\n",
       "      <td>First strike (This creature deals combat damag...</td>\n",
       "      <td>4</td>\n",
       "      <td>Creature — Human Cleric</td>\n",
       "      <td>Creature</td>\n",
       "    </tr>\n",
       "    <tr>\n",
       "      <th>Angel of Mercy</th>\n",
       "      <td>black</td>\n",
       "      <td>W</td>\n",
       "      <td>Flying</td>\n",
       "      <td>{4}{W}</td>\n",
       "      <td>5.0</td>\n",
       "      <td>3</td>\n",
       "      <td>10E, 8ED, 9ED, DDC, DVD, IMA, INV, JMP, MB1, P...</td>\n",
       "      <td>uncommon</td>\n",
       "      <td>10E</td>\n",
       "      <td>Angel</td>\n",
       "      <td>NaN</td>\n",
       "      <td>Flying\\nWhen Angel of Mercy enters the battlef...</td>\n",
       "      <td>3</td>\n",
       "      <td>Creature — Angel</td>\n",
       "      <td>Creature</td>\n",
       "    </tr>\n",
       "    <tr>\n",
       "      <th>Angel of Mercy</th>\n",
       "      <td>black</td>\n",
       "      <td>W</td>\n",
       "      <td>Flying</td>\n",
       "      <td>{4}{W}</td>\n",
       "      <td>5.0</td>\n",
       "      <td>3</td>\n",
       "      <td>10E, 8ED, 9ED, DDC, DVD, IMA, INV, JMP, MB1, P...</td>\n",
       "      <td>uncommon</td>\n",
       "      <td>10E</td>\n",
       "      <td>Angel</td>\n",
       "      <td>NaN</td>\n",
       "      <td>Flying\\nWhen Angel of Mercy enters the battlef...</td>\n",
       "      <td>3</td>\n",
       "      <td>Creature — Angel</td>\n",
       "      <td>Creature</td>\n",
       "    </tr>\n",
       "    <tr>\n",
       "      <th>Angelic Blessing</th>\n",
       "      <td>black</td>\n",
       "      <td>W</td>\n",
       "      <td>NaN</td>\n",
       "      <td>{2}{W}</td>\n",
       "      <td>3.0</td>\n",
       "      <td>NaN</td>\n",
       "      <td>10E, 9ED, EXO, P02, POR, PS11, S00, S99, TPR</td>\n",
       "      <td>common</td>\n",
       "      <td>10E</td>\n",
       "      <td>NaN</td>\n",
       "      <td>NaN</td>\n",
       "      <td>Target creature gets +3/+3 and gains flying un...</td>\n",
       "      <td>NaN</td>\n",
       "      <td>Sorcery</td>\n",
       "      <td>Sorcery</td>\n",
       "    </tr>\n",
       "    <tr>\n",
       "      <th>...</th>\n",
       "      <td>...</td>\n",
       "      <td>...</td>\n",
       "      <td>...</td>\n",
       "      <td>...</td>\n",
       "      <td>...</td>\n",
       "      <td>...</td>\n",
       "      <td>...</td>\n",
       "      <td>...</td>\n",
       "      <td>...</td>\n",
       "      <td>...</td>\n",
       "      <td>...</td>\n",
       "      <td>...</td>\n",
       "      <td>...</td>\n",
       "      <td>...</td>\n",
       "      <td>...</td>\n",
       "    </tr>\n",
       "    <tr>\n",
       "      <th>Into the Roil</th>\n",
       "      <td>black</td>\n",
       "      <td>U</td>\n",
       "      <td>Kicker</td>\n",
       "      <td>{1}{U}</td>\n",
       "      <td>2.0</td>\n",
       "      <td>NaN</td>\n",
       "      <td>C14, C17, C18, CMR, DDM, PS11, ZEN, ZNR</td>\n",
       "      <td>common</td>\n",
       "      <td>ZNR</td>\n",
       "      <td>NaN</td>\n",
       "      <td>NaN</td>\n",
       "      <td>Kicker {1}{U} (You may pay an additional {1}{U...</td>\n",
       "      <td>NaN</td>\n",
       "      <td>Instant</td>\n",
       "      <td>Instant</td>\n",
       "    </tr>\n",
       "    <tr>\n",
       "      <th>Bloodchief's Thirst</th>\n",
       "      <td>black</td>\n",
       "      <td>B</td>\n",
       "      <td>Kicker</td>\n",
       "      <td>{B}</td>\n",
       "      <td>1.0</td>\n",
       "      <td>NaN</td>\n",
       "      <td>ZNR</td>\n",
       "      <td>uncommon</td>\n",
       "      <td>ZNR</td>\n",
       "      <td>NaN</td>\n",
       "      <td>NaN</td>\n",
       "      <td>Kicker {2}{B} (You may pay an additional {2}{B...</td>\n",
       "      <td>NaN</td>\n",
       "      <td>Sorcery</td>\n",
       "      <td>Sorcery</td>\n",
       "    </tr>\n",
       "    <tr>\n",
       "      <th>Roil Eruption</th>\n",
       "      <td>black</td>\n",
       "      <td>R</td>\n",
       "      <td>Kicker</td>\n",
       "      <td>{1}{R}</td>\n",
       "      <td>2.0</td>\n",
       "      <td>NaN</td>\n",
       "      <td>ZNR</td>\n",
       "      <td>common</td>\n",
       "      <td>ZNR</td>\n",
       "      <td>NaN</td>\n",
       "      <td>NaN</td>\n",
       "      <td>Kicker {5} (You may pay an additional {5} as y...</td>\n",
       "      <td>NaN</td>\n",
       "      <td>Sorcery</td>\n",
       "      <td>Sorcery</td>\n",
       "    </tr>\n",
       "    <tr>\n",
       "      <th>Roiling Regrowth</th>\n",
       "      <td>black</td>\n",
       "      <td>G</td>\n",
       "      <td>NaN</td>\n",
       "      <td>{2}{G}</td>\n",
       "      <td>3.0</td>\n",
       "      <td>NaN</td>\n",
       "      <td>ZNR</td>\n",
       "      <td>uncommon</td>\n",
       "      <td>ZNR</td>\n",
       "      <td>NaN</td>\n",
       "      <td>NaN</td>\n",
       "      <td>Sacrifice a land. Search your library for up t...</td>\n",
       "      <td>NaN</td>\n",
       "      <td>Instant</td>\n",
       "      <td>Instant</td>\n",
       "    </tr>\n",
       "    <tr>\n",
       "      <th>Kargan Warleader</th>\n",
       "      <td>black</td>\n",
       "      <td>R, W</td>\n",
       "      <td>NaN</td>\n",
       "      <td>{1}{R}{W}</td>\n",
       "      <td>3.0</td>\n",
       "      <td>3</td>\n",
       "      <td>ZNR</td>\n",
       "      <td>uncommon</td>\n",
       "      <td>ZNR</td>\n",
       "      <td>Human, Warrior</td>\n",
       "      <td>NaN</td>\n",
       "      <td>Other Warriors you control get +1/+1.</td>\n",
       "      <td>3</td>\n",
       "      <td>Creature — Human Warrior</td>\n",
       "      <td>Creature</td>\n",
       "    </tr>\n",
       "  </tbody>\n",
       "</table>\n",
       "<p>86322 rows × 15 columns</p>\n",
       "</div>"
      ],
      "text/plain": [
       "                    borderColor colors      keywords   manaCost  manaValue  \\\n",
       "name                                                                         \n",
       "Ancestor's Chosen         black      W  First strike  {5}{W}{W}        7.0   \n",
       "Ancestor's Chosen         black      W  First strike  {5}{W}{W}        7.0   \n",
       "Angel of Mercy            black      W        Flying     {4}{W}        5.0   \n",
       "Angel of Mercy            black      W        Flying     {4}{W}        5.0   \n",
       "Angelic Blessing          black      W           NaN     {2}{W}        3.0   \n",
       "...                         ...    ...           ...        ...        ...   \n",
       "Into the Roil             black      U        Kicker     {1}{U}        2.0   \n",
       "Bloodchief's Thirst       black      B        Kicker        {B}        1.0   \n",
       "Roil Eruption             black      R        Kicker     {1}{R}        2.0   \n",
       "Roiling Regrowth          black      G           NaN     {2}{G}        3.0   \n",
       "Kargan Warleader          black   R, W           NaN  {1}{R}{W}        3.0   \n",
       "\n",
       "                    power                                          printings  \\\n",
       "name                                                                           \n",
       "Ancestor's Chosen       4                                      10E, JUD, UMA   \n",
       "Ancestor's Chosen       4                                      10E, JUD, UMA   \n",
       "Angel of Mercy          3  10E, 8ED, 9ED, DDC, DVD, IMA, INV, JMP, MB1, P...   \n",
       "Angel of Mercy          3  10E, 8ED, 9ED, DDC, DVD, IMA, INV, JMP, MB1, P...   \n",
       "Angelic Blessing      NaN       10E, 9ED, EXO, P02, POR, PS11, S00, S99, TPR   \n",
       "...                   ...                                                ...   \n",
       "Into the Roil         NaN            C14, C17, C18, CMR, DDM, PS11, ZEN, ZNR   \n",
       "Bloodchief's Thirst   NaN                                                ZNR   \n",
       "Roil Eruption         NaN                                                ZNR   \n",
       "Roiling Regrowth      NaN                                                ZNR   \n",
       "Kargan Warleader        3                                                ZNR   \n",
       "\n",
       "                       rarity setCode        subtypes supertypes  \\\n",
       "name                                                               \n",
       "Ancestor's Chosen    uncommon     10E   Human, Cleric        NaN   \n",
       "Ancestor's Chosen    uncommon     10E   Human, Cleric        NaN   \n",
       "Angel of Mercy       uncommon     10E           Angel        NaN   \n",
       "Angel of Mercy       uncommon     10E           Angel        NaN   \n",
       "Angelic Blessing       common     10E             NaN        NaN   \n",
       "...                       ...     ...             ...        ...   \n",
       "Into the Roil          common     ZNR             NaN        NaN   \n",
       "Bloodchief's Thirst  uncommon     ZNR             NaN        NaN   \n",
       "Roil Eruption          common     ZNR             NaN        NaN   \n",
       "Roiling Regrowth     uncommon     ZNR             NaN        NaN   \n",
       "Kargan Warleader     uncommon     ZNR  Human, Warrior        NaN   \n",
       "\n",
       "                                                                  text  \\\n",
       "name                                                                     \n",
       "Ancestor's Chosen    First strike (This creature deals combat damag...   \n",
       "Ancestor's Chosen    First strike (This creature deals combat damag...   \n",
       "Angel of Mercy       Flying\\nWhen Angel of Mercy enters the battlef...   \n",
       "Angel of Mercy       Flying\\nWhen Angel of Mercy enters the battlef...   \n",
       "Angelic Blessing     Target creature gets +3/+3 and gains flying un...   \n",
       "...                                                                ...   \n",
       "Into the Roil        Kicker {1}{U} (You may pay an additional {1}{U...   \n",
       "Bloodchief's Thirst  Kicker {2}{B} (You may pay an additional {2}{B...   \n",
       "Roil Eruption        Kicker {5} (You may pay an additional {5} as y...   \n",
       "Roiling Regrowth     Sacrifice a land. Search your library for up t...   \n",
       "Kargan Warleader                 Other Warriors you control get +1/+1.   \n",
       "\n",
       "                    toughness                      type     types  \n",
       "name                                                               \n",
       "Ancestor's Chosen           4   Creature — Human Cleric  Creature  \n",
       "Ancestor's Chosen           4   Creature — Human Cleric  Creature  \n",
       "Angel of Mercy              3          Creature — Angel  Creature  \n",
       "Angel of Mercy              3          Creature — Angel  Creature  \n",
       "Angelic Blessing          NaN                   Sorcery   Sorcery  \n",
       "...                       ...                       ...       ...  \n",
       "Into the Roil             NaN                   Instant   Instant  \n",
       "Bloodchief's Thirst       NaN                   Sorcery   Sorcery  \n",
       "Roil Eruption             NaN                   Sorcery   Sorcery  \n",
       "Roiling Regrowth          NaN                   Instant   Instant  \n",
       "Kargan Warleader            3  Creature — Human Warrior  Creature  \n",
       "\n",
       "[86322 rows x 15 columns]"
      ]
     },
     "execution_count": 6,
     "metadata": {},
     "output_type": "execute_result"
    }
   ],
   "source": [
    "relevant_types = cards[['borderColor', 'colors', 'keywords', 'manaCost', 'manaValue', 'name', 'power', 'printings', 'rarity','setCode', 'subtypes', 'supertypes', 'text', 'toughness', 'type', 'types']]\n",
    "relevant_types.set_index('name')"
   ]
  },
  {
   "cell_type": "code",
   "execution_count": 7,
   "metadata": {},
   "outputs": [
    {
     "data": {
      "text/plain": [
       "borderColor        0\n",
       "colors         18648\n",
       "keywords       51654\n",
       "manaCost       11266\n",
       "manaValue          0\n",
       "name               0\n",
       "power          45265\n",
       "printings          0\n",
       "rarity             0\n",
       "setCode            0\n",
       "subtypes       33038\n",
       "supertypes     71351\n",
       "text            1087\n",
       "toughness      45265\n",
       "type               0\n",
       "types              0\n",
       "dtype: int64"
      ]
     },
     "execution_count": 7,
     "metadata": {},
     "output_type": "execute_result"
    }
   ],
   "source": [
    "relevant_types.isna().sum()\n",
    " # so adding some expert knowledge, \n",
    " # colors na is going to be colorless cards\n",
    " # keywords na is fine some cards don't have keywords\n",
    " # manaCost NA most likely means the card is a land with no mana cost but we should check to make sure cards with suspend and 0 mana cost have proper mana values\n",
    " # power and toughness should have the same number of nas, because cards that don't have one can't have the other\n",
    " # sub and super types being NA is fine, some cards don't have those but all of them should have type and types\n",
    " # text NA should only be vanilla creatures and artifacts"
   ]
  },
  {
   "cell_type": "code",
   "execution_count": 8,
   "metadata": {},
   "outputs": [
    {
     "data": {
      "text/plain": [
       "colors\n",
       "G                11781\n",
       "B                11544\n",
       "W                11512\n",
       "R                11434\n",
       "U                11227\n",
       "U, W               909\n",
       "G, W               885\n",
       "B, U               859\n",
       "G, R               855\n",
       "B, R               852\n",
       "G, U               785\n",
       "R, W               746\n",
       "B, W               745\n",
       "R, U               738\n",
       "B, G               735\n",
       "B, R, U            294\n",
       "B, U, W            224\n",
       "G, R, W            208\n",
       "G, U, W            189\n",
       "B, G, R            188\n",
       "B, G, R, U, W      180\n",
       "R, U, W            142\n",
       "B, R, W            130\n",
       "B, G, W            121\n",
       "B, G, U            121\n",
       "G, R, U            110\n",
       "B, G, U, W          21\n",
       "G, R, U, W          18\n",
       "W, G                17\n",
       "U, B                13\n",
       "U, R                12\n",
       "U, G                12\n",
       "W, R                12\n",
       "W, U                11\n",
       "R, G                 8\n",
       "U, R, G              8\n",
       "B, R, U, W           8\n",
       "W, B                 7\n",
       "B, G, R, U           7\n",
       "B, G, R, W           6\n",
       "Name: count, dtype: int64"
      ]
     },
     "execution_count": 8,
     "metadata": {},
     "output_type": "execute_result"
    }
   ],
   "source": [
    "relevant_types['colors'].value_counts()"
   ]
  },
  {
   "cell_type": "code",
   "execution_count": 9,
   "metadata": {},
   "outputs": [
    {
     "data": {
      "text/plain": [
       "'string'"
      ]
     },
     "execution_count": 9,
     "metadata": {},
     "output_type": "execute_result"
    }
   ],
   "source": [
    "infer_dtype(relevant_types['text'])"
   ]
  },
  {
   "cell_type": "code",
   "execution_count": 10,
   "metadata": {},
   "outputs": [
    {
     "data": {
      "text/html": [
       "<div>\n",
       "<style scoped>\n",
       "    .dataframe tbody tr th:only-of-type {\n",
       "        vertical-align: middle;\n",
       "    }\n",
       "\n",
       "    .dataframe tbody tr th {\n",
       "        vertical-align: top;\n",
       "    }\n",
       "\n",
       "    .dataframe thead th {\n",
       "        text-align: right;\n",
       "    }\n",
       "</style>\n",
       "<table border=\"1\" class=\"dataframe\">\n",
       "  <thead>\n",
       "    <tr style=\"text-align: right;\">\n",
       "      <th></th>\n",
       "      <th>borderColor</th>\n",
       "      <th>colors</th>\n",
       "      <th>keywords</th>\n",
       "      <th>manaCost</th>\n",
       "      <th>manaValue</th>\n",
       "      <th>name</th>\n",
       "      <th>power</th>\n",
       "      <th>printings</th>\n",
       "      <th>rarity</th>\n",
       "      <th>setCode</th>\n",
       "      <th>subtypes</th>\n",
       "      <th>supertypes</th>\n",
       "      <th>text</th>\n",
       "      <th>toughness</th>\n",
       "      <th>type</th>\n",
       "      <th>types</th>\n",
       "    </tr>\n",
       "  </thead>\n",
       "  <tbody>\n",
       "    <tr>\n",
       "      <th>0</th>\n",
       "      <td>black</td>\n",
       "      <td>W</td>\n",
       "      <td>First strike</td>\n",
       "      <td>{5}{W}{W}</td>\n",
       "      <td>7.0</td>\n",
       "      <td>Ancestor's Chosen</td>\n",
       "      <td>4</td>\n",
       "      <td>10E, JUD, UMA</td>\n",
       "      <td>uncommon</td>\n",
       "      <td>10E</td>\n",
       "      <td>Human, Cleric</td>\n",
       "      <td>NaN</td>\n",
       "      <td>First strike (This creature deals combat damag...</td>\n",
       "      <td>4</td>\n",
       "      <td>Creature — Human Cleric</td>\n",
       "      <td>Creature</td>\n",
       "    </tr>\n",
       "    <tr>\n",
       "      <th>1</th>\n",
       "      <td>black</td>\n",
       "      <td>W</td>\n",
       "      <td>First strike</td>\n",
       "      <td>{5}{W}{W}</td>\n",
       "      <td>7.0</td>\n",
       "      <td>Ancestor's Chosen</td>\n",
       "      <td>4</td>\n",
       "      <td>10E, JUD, UMA</td>\n",
       "      <td>uncommon</td>\n",
       "      <td>10E</td>\n",
       "      <td>Human, Cleric</td>\n",
       "      <td>NaN</td>\n",
       "      <td>First strike (This creature deals combat damag...</td>\n",
       "      <td>4</td>\n",
       "      <td>Creature — Human Cleric</td>\n",
       "      <td>Creature</td>\n",
       "    </tr>\n",
       "    <tr>\n",
       "      <th>2</th>\n",
       "      <td>black</td>\n",
       "      <td>W</td>\n",
       "      <td>Flying</td>\n",
       "      <td>{4}{W}</td>\n",
       "      <td>5.0</td>\n",
       "      <td>Angel of Mercy</td>\n",
       "      <td>3</td>\n",
       "      <td>10E, 8ED, 9ED, DDC, DVD, IMA, INV, JMP, MB1, P...</td>\n",
       "      <td>uncommon</td>\n",
       "      <td>10E</td>\n",
       "      <td>Angel</td>\n",
       "      <td>NaN</td>\n",
       "      <td>Flying\\nWhen Angel of Mercy enters the battlef...</td>\n",
       "      <td>3</td>\n",
       "      <td>Creature — Angel</td>\n",
       "      <td>Creature</td>\n",
       "    </tr>\n",
       "    <tr>\n",
       "      <th>3</th>\n",
       "      <td>black</td>\n",
       "      <td>W</td>\n",
       "      <td>Flying</td>\n",
       "      <td>{4}{W}</td>\n",
       "      <td>5.0</td>\n",
       "      <td>Angel of Mercy</td>\n",
       "      <td>3</td>\n",
       "      <td>10E, 8ED, 9ED, DDC, DVD, IMA, INV, JMP, MB1, P...</td>\n",
       "      <td>uncommon</td>\n",
       "      <td>10E</td>\n",
       "      <td>Angel</td>\n",
       "      <td>NaN</td>\n",
       "      <td>Flying\\nWhen Angel of Mercy enters the battlef...</td>\n",
       "      <td>3</td>\n",
       "      <td>Creature — Angel</td>\n",
       "      <td>Creature</td>\n",
       "    </tr>\n",
       "    <tr>\n",
       "      <th>4</th>\n",
       "      <td>black</td>\n",
       "      <td>W</td>\n",
       "      <td>NaN</td>\n",
       "      <td>{2}{W}</td>\n",
       "      <td>3.0</td>\n",
       "      <td>Angelic Blessing</td>\n",
       "      <td>NaN</td>\n",
       "      <td>10E, 9ED, EXO, P02, POR, PS11, S00, S99, TPR</td>\n",
       "      <td>common</td>\n",
       "      <td>10E</td>\n",
       "      <td>NaN</td>\n",
       "      <td>NaN</td>\n",
       "      <td>Target creature gets +3/+3 and gains flying un...</td>\n",
       "      <td>NaN</td>\n",
       "      <td>Sorcery</td>\n",
       "      <td>Sorcery</td>\n",
       "    </tr>\n",
       "  </tbody>\n",
       "</table>\n",
       "</div>"
      ],
      "text/plain": [
       "  borderColor colors      keywords   manaCost  manaValue               name  \\\n",
       "0       black      W  First strike  {5}{W}{W}        7.0  Ancestor's Chosen   \n",
       "1       black      W  First strike  {5}{W}{W}        7.0  Ancestor's Chosen   \n",
       "2       black      W        Flying     {4}{W}        5.0     Angel of Mercy   \n",
       "3       black      W        Flying     {4}{W}        5.0     Angel of Mercy   \n",
       "4       black      W           NaN     {2}{W}        3.0   Angelic Blessing   \n",
       "\n",
       "  power                                          printings    rarity setCode  \\\n",
       "0     4                                      10E, JUD, UMA  uncommon     10E   \n",
       "1     4                                      10E, JUD, UMA  uncommon     10E   \n",
       "2     3  10E, 8ED, 9ED, DDC, DVD, IMA, INV, JMP, MB1, P...  uncommon     10E   \n",
       "3     3  10E, 8ED, 9ED, DDC, DVD, IMA, INV, JMP, MB1, P...  uncommon     10E   \n",
       "4   NaN       10E, 9ED, EXO, P02, POR, PS11, S00, S99, TPR    common     10E   \n",
       "\n",
       "        subtypes supertypes  \\\n",
       "0  Human, Cleric        NaN   \n",
       "1  Human, Cleric        NaN   \n",
       "2          Angel        NaN   \n",
       "3          Angel        NaN   \n",
       "4            NaN        NaN   \n",
       "\n",
       "                                                text toughness  \\\n",
       "0  First strike (This creature deals combat damag...         4   \n",
       "1  First strike (This creature deals combat damag...         4   \n",
       "2  Flying\\nWhen Angel of Mercy enters the battlef...         3   \n",
       "3  Flying\\nWhen Angel of Mercy enters the battlef...         3   \n",
       "4  Target creature gets +3/+3 and gains flying un...       NaN   \n",
       "\n",
       "                      type     types  \n",
       "0  Creature — Human Cleric  Creature  \n",
       "1  Creature — Human Cleric  Creature  \n",
       "2         Creature — Angel  Creature  \n",
       "3         Creature — Angel  Creature  \n",
       "4                  Sorcery   Sorcery  "
      ]
     },
     "execution_count": 10,
     "metadata": {},
     "output_type": "execute_result"
    }
   ],
   "source": [
    "relevant_types.head()"
   ]
  },
  {
   "cell_type": "code",
   "execution_count": 11,
   "metadata": {},
   "outputs": [
    {
     "data": {
      "text/html": [
       "<div>\n",
       "<style scoped>\n",
       "    .dataframe tbody tr th:only-of-type {\n",
       "        vertical-align: middle;\n",
       "    }\n",
       "\n",
       "    .dataframe tbody tr th {\n",
       "        vertical-align: top;\n",
       "    }\n",
       "\n",
       "    .dataframe thead th {\n",
       "        text-align: right;\n",
       "    }\n",
       "</style>\n",
       "<table border=\"1\" class=\"dataframe\">\n",
       "  <thead>\n",
       "    <tr style=\"text-align: right;\">\n",
       "      <th></th>\n",
       "      <th>borderColor</th>\n",
       "      <th>colors</th>\n",
       "      <th>keywords</th>\n",
       "      <th>manaCost</th>\n",
       "      <th>manaValue</th>\n",
       "      <th>name</th>\n",
       "      <th>power</th>\n",
       "      <th>printings</th>\n",
       "      <th>rarity</th>\n",
       "      <th>setCode</th>\n",
       "      <th>subtypes</th>\n",
       "      <th>supertypes</th>\n",
       "      <th>text</th>\n",
       "      <th>toughness</th>\n",
       "      <th>type</th>\n",
       "      <th>types</th>\n",
       "    </tr>\n",
       "  </thead>\n",
       "  <tbody>\n",
       "    <tr>\n",
       "      <th>122</th>\n",
       "      <td>black</td>\n",
       "      <td>U</td>\n",
       "      <td>NaN</td>\n",
       "      <td>{U}</td>\n",
       "      <td>1.0</td>\n",
       "      <td>Fugitive Wizard</td>\n",
       "      <td>1</td>\n",
       "      <td>10E, 8ED, 9ED, LGN, M15</td>\n",
       "      <td>common</td>\n",
       "      <td>10E</td>\n",
       "      <td>Human, Wizard</td>\n",
       "      <td>NaN</td>\n",
       "      <td>NaN</td>\n",
       "      <td>1</td>\n",
       "      <td>Creature — Human Wizard</td>\n",
       "      <td>Creature</td>\n",
       "    </tr>\n",
       "    <tr>\n",
       "      <th>125</th>\n",
       "      <td>black</td>\n",
       "      <td>U</td>\n",
       "      <td>NaN</td>\n",
       "      <td>{1}{U}</td>\n",
       "      <td>2.0</td>\n",
       "      <td>Lumengrid Warden</td>\n",
       "      <td>1</td>\n",
       "      <td>10E, 9ED, MRD</td>\n",
       "      <td>common</td>\n",
       "      <td>10E</td>\n",
       "      <td>Human, Wizard</td>\n",
       "      <td>NaN</td>\n",
       "      <td>NaN</td>\n",
       "      <td>3</td>\n",
       "      <td>Creature — Human Wizard</td>\n",
       "      <td>Creature</td>\n",
       "    </tr>\n",
       "    <tr>\n",
       "      <th>192</th>\n",
       "      <td>black</td>\n",
       "      <td>B</td>\n",
       "      <td>NaN</td>\n",
       "      <td>{3}{B}</td>\n",
       "      <td>4.0</td>\n",
       "      <td>Dross Crocodile</td>\n",
       "      <td>5</td>\n",
       "      <td>10E, 5DN</td>\n",
       "      <td>common</td>\n",
       "      <td>10E</td>\n",
       "      <td>Zombie, Crocodile</td>\n",
       "      <td>NaN</td>\n",
       "      <td>NaN</td>\n",
       "      <td>1</td>\n",
       "      <td>Creature — Zombie Crocodile</td>\n",
       "      <td>Creature</td>\n",
       "    </tr>\n",
       "    <tr>\n",
       "      <th>217</th>\n",
       "      <td>black</td>\n",
       "      <td>B</td>\n",
       "      <td>NaN</td>\n",
       "      <td>{3}{B}{B}</td>\n",
       "      <td>5.0</td>\n",
       "      <td>Mass of Ghouls</td>\n",
       "      <td>5</td>\n",
       "      <td>10E, FUT, TSR</td>\n",
       "      <td>common</td>\n",
       "      <td>10E</td>\n",
       "      <td>Zombie, Warrior</td>\n",
       "      <td>NaN</td>\n",
       "      <td>NaN</td>\n",
       "      <td>3</td>\n",
       "      <td>Creature — Zombie Warrior</td>\n",
       "      <td>Creature</td>\n",
       "    </tr>\n",
       "    <tr>\n",
       "      <th>240</th>\n",
       "      <td>black</td>\n",
       "      <td>B</td>\n",
       "      <td>NaN</td>\n",
       "      <td>{2}{B}</td>\n",
       "      <td>3.0</td>\n",
       "      <td>Scathe Zombies</td>\n",
       "      <td>2</td>\n",
       "      <td>10E, 2ED, 30A, 3ED, 4BB, 4ED, 5ED, 6ED, 7ED, 8...</td>\n",
       "      <td>common</td>\n",
       "      <td>10E</td>\n",
       "      <td>Zombie</td>\n",
       "      <td>NaN</td>\n",
       "      <td>NaN</td>\n",
       "      <td>2</td>\n",
       "      <td>Creature — Zombie</td>\n",
       "      <td>Creature</td>\n",
       "    </tr>\n",
       "    <tr>\n",
       "      <th>...</th>\n",
       "      <td>...</td>\n",
       "      <td>...</td>\n",
       "      <td>...</td>\n",
       "      <td>...</td>\n",
       "      <td>...</td>\n",
       "      <td>...</td>\n",
       "      <td>...</td>\n",
       "      <td>...</td>\n",
       "      <td>...</td>\n",
       "      <td>...</td>\n",
       "      <td>...</td>\n",
       "      <td>...</td>\n",
       "      <td>...</td>\n",
       "      <td>...</td>\n",
       "      <td>...</td>\n",
       "      <td>...</td>\n",
       "    </tr>\n",
       "    <tr>\n",
       "      <th>85609</th>\n",
       "      <td>black</td>\n",
       "      <td>G</td>\n",
       "      <td>NaN</td>\n",
       "      <td>{5}{G}</td>\n",
       "      <td>6.0</td>\n",
       "      <td>Vastwood Gorger</td>\n",
       "      <td>5</td>\n",
       "      <td>M12, M13, MB1, ORI, ZEN</td>\n",
       "      <td>common</td>\n",
       "      <td>ZEN</td>\n",
       "      <td>Wurm</td>\n",
       "      <td>NaN</td>\n",
       "      <td>NaN</td>\n",
       "      <td>6</td>\n",
       "      <td>Creature — Wurm</td>\n",
       "      <td>Creature</td>\n",
       "    </tr>\n",
       "    <tr>\n",
       "      <th>85624</th>\n",
       "      <td>black</td>\n",
       "      <td>NaN</td>\n",
       "      <td>NaN</td>\n",
       "      <td>{3}</td>\n",
       "      <td>3.0</td>\n",
       "      <td>Stonework Puma</td>\n",
       "      <td>2</td>\n",
       "      <td>DDP, ZEN</td>\n",
       "      <td>common</td>\n",
       "      <td>ZEN</td>\n",
       "      <td>Cat, Ally</td>\n",
       "      <td>NaN</td>\n",
       "      <td>NaN</td>\n",
       "      <td>2</td>\n",
       "      <td>Artifact Creature — Cat Ally</td>\n",
       "      <td>Artifact, Creature</td>\n",
       "    </tr>\n",
       "    <tr>\n",
       "      <th>85868</th>\n",
       "      <td>black</td>\n",
       "      <td>W</td>\n",
       "      <td>NaN</td>\n",
       "      <td>{1}{W}</td>\n",
       "      <td>2.0</td>\n",
       "      <td>Cliffhaven Sell-Sword</td>\n",
       "      <td>3</td>\n",
       "      <td>ZNR</td>\n",
       "      <td>common</td>\n",
       "      <td>ZNR</td>\n",
       "      <td>Kor, Warrior</td>\n",
       "      <td>NaN</td>\n",
       "      <td>NaN</td>\n",
       "      <td>1</td>\n",
       "      <td>Creature — Kor Warrior</td>\n",
       "      <td>Creature</td>\n",
       "    </tr>\n",
       "    <tr>\n",
       "      <th>85984</th>\n",
       "      <td>black</td>\n",
       "      <td>B</td>\n",
       "      <td>NaN</td>\n",
       "      <td>{3}{B}</td>\n",
       "      <td>4.0</td>\n",
       "      <td>Highborn Vampire</td>\n",
       "      <td>4</td>\n",
       "      <td>ZNR</td>\n",
       "      <td>common</td>\n",
       "      <td>ZNR</td>\n",
       "      <td>Vampire, Warrior</td>\n",
       "      <td>NaN</td>\n",
       "      <td>NaN</td>\n",
       "      <td>3</td>\n",
       "      <td>Creature — Vampire Warrior</td>\n",
       "      <td>Creature</td>\n",
       "    </tr>\n",
       "    <tr>\n",
       "      <th>86090</th>\n",
       "      <td>black</td>\n",
       "      <td>G</td>\n",
       "      <td>NaN</td>\n",
       "      <td>{2}{G}</td>\n",
       "      <td>3.0</td>\n",
       "      <td>Murasa Brute</td>\n",
       "      <td>3</td>\n",
       "      <td>ZNR</td>\n",
       "      <td>common</td>\n",
       "      <td>ZNR</td>\n",
       "      <td>Troll, Warrior</td>\n",
       "      <td>NaN</td>\n",
       "      <td>NaN</td>\n",
       "      <td>3</td>\n",
       "      <td>Creature — Troll Warrior</td>\n",
       "      <td>Creature</td>\n",
       "    </tr>\n",
       "  </tbody>\n",
       "</table>\n",
       "<p>1087 rows × 16 columns</p>\n",
       "</div>"
      ],
      "text/plain": [
       "      borderColor colors keywords   manaCost  manaValue  \\\n",
       "122         black      U      NaN        {U}        1.0   \n",
       "125         black      U      NaN     {1}{U}        2.0   \n",
       "192         black      B      NaN     {3}{B}        4.0   \n",
       "217         black      B      NaN  {3}{B}{B}        5.0   \n",
       "240         black      B      NaN     {2}{B}        3.0   \n",
       "...           ...    ...      ...        ...        ...   \n",
       "85609       black      G      NaN     {5}{G}        6.0   \n",
       "85624       black    NaN      NaN        {3}        3.0   \n",
       "85868       black      W      NaN     {1}{W}        2.0   \n",
       "85984       black      B      NaN     {3}{B}        4.0   \n",
       "86090       black      G      NaN     {2}{G}        3.0   \n",
       "\n",
       "                        name power  \\\n",
       "122          Fugitive Wizard     1   \n",
       "125         Lumengrid Warden     1   \n",
       "192          Dross Crocodile     5   \n",
       "217           Mass of Ghouls     5   \n",
       "240           Scathe Zombies     2   \n",
       "...                      ...   ...   \n",
       "85609        Vastwood Gorger     5   \n",
       "85624         Stonework Puma     2   \n",
       "85868  Cliffhaven Sell-Sword     3   \n",
       "85984       Highborn Vampire     4   \n",
       "86090           Murasa Brute     3   \n",
       "\n",
       "                                               printings  rarity setCode  \\\n",
       "122                              10E, 8ED, 9ED, LGN, M15  common     10E   \n",
       "125                                        10E, 9ED, MRD  common     10E   \n",
       "192                                             10E, 5DN  common     10E   \n",
       "217                                        10E, FUT, TSR  common     10E   \n",
       "240    10E, 2ED, 30A, 3ED, 4BB, 4ED, 5ED, 6ED, 7ED, 8...  common     10E   \n",
       "...                                                  ...     ...     ...   \n",
       "85609                            M12, M13, MB1, ORI, ZEN  common     ZEN   \n",
       "85624                                           DDP, ZEN  common     ZEN   \n",
       "85868                                                ZNR  common     ZNR   \n",
       "85984                                                ZNR  common     ZNR   \n",
       "86090                                                ZNR  common     ZNR   \n",
       "\n",
       "                subtypes supertypes text toughness  \\\n",
       "122        Human, Wizard        NaN  NaN         1   \n",
       "125        Human, Wizard        NaN  NaN         3   \n",
       "192    Zombie, Crocodile        NaN  NaN         1   \n",
       "217      Zombie, Warrior        NaN  NaN         3   \n",
       "240               Zombie        NaN  NaN         2   \n",
       "...                  ...        ...  ...       ...   \n",
       "85609               Wurm        NaN  NaN         6   \n",
       "85624          Cat, Ally        NaN  NaN         2   \n",
       "85868       Kor, Warrior        NaN  NaN         1   \n",
       "85984   Vampire, Warrior        NaN  NaN         3   \n",
       "86090     Troll, Warrior        NaN  NaN         3   \n",
       "\n",
       "                               type               types  \n",
       "122         Creature — Human Wizard            Creature  \n",
       "125         Creature — Human Wizard            Creature  \n",
       "192     Creature — Zombie Crocodile            Creature  \n",
       "217       Creature — Zombie Warrior            Creature  \n",
       "240               Creature — Zombie            Creature  \n",
       "...                             ...                 ...  \n",
       "85609               Creature — Wurm            Creature  \n",
       "85624  Artifact Creature — Cat Ally  Artifact, Creature  \n",
       "85868        Creature — Kor Warrior            Creature  \n",
       "85984    Creature — Vampire Warrior            Creature  \n",
       "86090      Creature — Troll Warrior            Creature  \n",
       "\n",
       "[1087 rows x 16 columns]"
      ]
     },
     "execution_count": 11,
     "metadata": {},
     "output_type": "execute_result"
    }
   ],
   "source": [
    "relevant_types[(relevant_types['text'].isnull() == True)] #finding creatures with no text(aka with just power/toughness)"
   ]
  },
  {
   "cell_type": "code",
   "execution_count": 12,
   "metadata": {},
   "outputs": [
    {
     "name": "stderr",
     "output_type": "stream",
     "text": [
      "C:\\Users\\ellio\\AppData\\Local\\Temp\\ipykernel_15100\\2366656548.py:1: SettingWithCopyWarning: \n",
      "A value is trying to be set on a copy of a slice from a DataFrame.\n",
      "Try using .loc[row_indexer,col_indexer] = value instead\n",
      "\n",
      "See the caveats in the documentation: https://pandas.pydata.org/pandas-docs/stable/user_guide/indexing.html#returning-a-view-versus-a-copy\n",
      "  relevant_types['text'] = relevant_types['text'].fillna(value= \"\")\n"
     ]
    }
   ],
   "source": [
    "relevant_types['text'] = relevant_types['text'].fillna(value= \"\")"
   ]
  },
  {
   "cell_type": "code",
   "execution_count": 13,
   "metadata": {},
   "outputs": [
    {
     "data": {
      "text/plain": [
       "borderColor        0\n",
       "colors         18648\n",
       "keywords       51654\n",
       "manaCost       11266\n",
       "manaValue          0\n",
       "name               0\n",
       "power          45265\n",
       "printings          0\n",
       "rarity             0\n",
       "setCode            0\n",
       "subtypes       33038\n",
       "supertypes     71351\n",
       "text               0\n",
       "toughness      45265\n",
       "type               0\n",
       "types              0\n",
       "dtype: int64"
      ]
     },
     "execution_count": 13,
     "metadata": {},
     "output_type": "execute_result"
    }
   ],
   "source": [
    "relevant_types.isna().sum()"
   ]
  },
  {
   "cell_type": "code",
   "execution_count": 14,
   "metadata": {},
   "outputs": [
    {
     "data": {
      "text/html": [
       "<div>\n",
       "<style scoped>\n",
       "    .dataframe tbody tr th:only-of-type {\n",
       "        vertical-align: middle;\n",
       "    }\n",
       "\n",
       "    .dataframe tbody tr th {\n",
       "        vertical-align: top;\n",
       "    }\n",
       "\n",
       "    .dataframe thead th {\n",
       "        text-align: right;\n",
       "    }\n",
       "</style>\n",
       "<table border=\"1\" class=\"dataframe\">\n",
       "  <thead>\n",
       "    <tr style=\"text-align: right;\">\n",
       "      <th></th>\n",
       "      <th>borderColor</th>\n",
       "      <th>colors</th>\n",
       "      <th>keywords</th>\n",
       "      <th>manaCost</th>\n",
       "      <th>manaValue</th>\n",
       "      <th>name</th>\n",
       "      <th>power</th>\n",
       "      <th>printings</th>\n",
       "      <th>rarity</th>\n",
       "      <th>setCode</th>\n",
       "      <th>subtypes</th>\n",
       "      <th>supertypes</th>\n",
       "      <th>text</th>\n",
       "      <th>toughness</th>\n",
       "      <th>type</th>\n",
       "      <th>types</th>\n",
       "    </tr>\n",
       "  </thead>\n",
       "  <tbody>\n",
       "    <tr>\n",
       "      <th>0</th>\n",
       "      <td>black</td>\n",
       "      <td>W</td>\n",
       "      <td>First strike</td>\n",
       "      <td>{5}{W}{W}</td>\n",
       "      <td>7.0</td>\n",
       "      <td>Ancestor's Chosen</td>\n",
       "      <td>4</td>\n",
       "      <td>10E, JUD, UMA</td>\n",
       "      <td>uncommon</td>\n",
       "      <td>10E</td>\n",
       "      <td>Human, Cleric</td>\n",
       "      <td>NaN</td>\n",
       "      <td>First strike (This creature deals combat damag...</td>\n",
       "      <td>4</td>\n",
       "      <td>Creature — Human Cleric</td>\n",
       "      <td>Creature</td>\n",
       "    </tr>\n",
       "    <tr>\n",
       "      <th>1</th>\n",
       "      <td>black</td>\n",
       "      <td>W</td>\n",
       "      <td>First strike</td>\n",
       "      <td>{5}{W}{W}</td>\n",
       "      <td>7.0</td>\n",
       "      <td>Ancestor's Chosen</td>\n",
       "      <td>4</td>\n",
       "      <td>10E, JUD, UMA</td>\n",
       "      <td>uncommon</td>\n",
       "      <td>10E</td>\n",
       "      <td>Human, Cleric</td>\n",
       "      <td>NaN</td>\n",
       "      <td>First strike (This creature deals combat damag...</td>\n",
       "      <td>4</td>\n",
       "      <td>Creature — Human Cleric</td>\n",
       "      <td>Creature</td>\n",
       "    </tr>\n",
       "    <tr>\n",
       "      <th>2</th>\n",
       "      <td>black</td>\n",
       "      <td>W</td>\n",
       "      <td>Flying</td>\n",
       "      <td>{4}{W}</td>\n",
       "      <td>5.0</td>\n",
       "      <td>Angel of Mercy</td>\n",
       "      <td>3</td>\n",
       "      <td>10E, 8ED, 9ED, DDC, DVD, IMA, INV, JMP, MB1, P...</td>\n",
       "      <td>uncommon</td>\n",
       "      <td>10E</td>\n",
       "      <td>Angel</td>\n",
       "      <td>NaN</td>\n",
       "      <td>Flying\\nWhen Angel of Mercy enters the battlef...</td>\n",
       "      <td>3</td>\n",
       "      <td>Creature — Angel</td>\n",
       "      <td>Creature</td>\n",
       "    </tr>\n",
       "    <tr>\n",
       "      <th>3</th>\n",
       "      <td>black</td>\n",
       "      <td>W</td>\n",
       "      <td>Flying</td>\n",
       "      <td>{4}{W}</td>\n",
       "      <td>5.0</td>\n",
       "      <td>Angel of Mercy</td>\n",
       "      <td>3</td>\n",
       "      <td>10E, 8ED, 9ED, DDC, DVD, IMA, INV, JMP, MB1, P...</td>\n",
       "      <td>uncommon</td>\n",
       "      <td>10E</td>\n",
       "      <td>Angel</td>\n",
       "      <td>NaN</td>\n",
       "      <td>Flying\\nWhen Angel of Mercy enters the battlef...</td>\n",
       "      <td>3</td>\n",
       "      <td>Creature — Angel</td>\n",
       "      <td>Creature</td>\n",
       "    </tr>\n",
       "    <tr>\n",
       "      <th>4</th>\n",
       "      <td>black</td>\n",
       "      <td>W</td>\n",
       "      <td>NaN</td>\n",
       "      <td>{2}{W}</td>\n",
       "      <td>3.0</td>\n",
       "      <td>Angelic Blessing</td>\n",
       "      <td>NaN</td>\n",
       "      <td>10E, 9ED, EXO, P02, POR, PS11, S00, S99, TPR</td>\n",
       "      <td>common</td>\n",
       "      <td>10E</td>\n",
       "      <td>NaN</td>\n",
       "      <td>NaN</td>\n",
       "      <td>Target creature gets +3/+3 and gains flying un...</td>\n",
       "      <td>NaN</td>\n",
       "      <td>Sorcery</td>\n",
       "      <td>Sorcery</td>\n",
       "    </tr>\n",
       "  </tbody>\n",
       "</table>\n",
       "</div>"
      ],
      "text/plain": [
       "  borderColor colors      keywords   manaCost  manaValue               name  \\\n",
       "0       black      W  First strike  {5}{W}{W}        7.0  Ancestor's Chosen   \n",
       "1       black      W  First strike  {5}{W}{W}        7.0  Ancestor's Chosen   \n",
       "2       black      W        Flying     {4}{W}        5.0     Angel of Mercy   \n",
       "3       black      W        Flying     {4}{W}        5.0     Angel of Mercy   \n",
       "4       black      W           NaN     {2}{W}        3.0   Angelic Blessing   \n",
       "\n",
       "  power                                          printings    rarity setCode  \\\n",
       "0     4                                      10E, JUD, UMA  uncommon     10E   \n",
       "1     4                                      10E, JUD, UMA  uncommon     10E   \n",
       "2     3  10E, 8ED, 9ED, DDC, DVD, IMA, INV, JMP, MB1, P...  uncommon     10E   \n",
       "3     3  10E, 8ED, 9ED, DDC, DVD, IMA, INV, JMP, MB1, P...  uncommon     10E   \n",
       "4   NaN       10E, 9ED, EXO, P02, POR, PS11, S00, S99, TPR    common     10E   \n",
       "\n",
       "        subtypes supertypes  \\\n",
       "0  Human, Cleric        NaN   \n",
       "1  Human, Cleric        NaN   \n",
       "2          Angel        NaN   \n",
       "3          Angel        NaN   \n",
       "4            NaN        NaN   \n",
       "\n",
       "                                                text toughness  \\\n",
       "0  First strike (This creature deals combat damag...         4   \n",
       "1  First strike (This creature deals combat damag...         4   \n",
       "2  Flying\\nWhen Angel of Mercy enters the battlef...         3   \n",
       "3  Flying\\nWhen Angel of Mercy enters the battlef...         3   \n",
       "4  Target creature gets +3/+3 and gains flying un...       NaN   \n",
       "\n",
       "                      type     types  \n",
       "0  Creature — Human Cleric  Creature  \n",
       "1  Creature — Human Cleric  Creature  \n",
       "2         Creature — Angel  Creature  \n",
       "3         Creature — Angel  Creature  \n",
       "4                  Sorcery   Sorcery  "
      ]
     },
     "execution_count": 14,
     "metadata": {},
     "output_type": "execute_result"
    }
   ],
   "source": [
    "relevant_types.head()"
   ]
  },
  {
   "cell_type": "code",
   "execution_count": 15,
   "metadata": {},
   "outputs": [
    {
     "name": "stderr",
     "output_type": "stream",
     "text": [
      "C:\\Users\\ellio\\AppData\\Local\\Temp\\ipykernel_15100\\3385958689.py:2: SettingWithCopyWarning: \n",
      "A value is trying to be set on a copy of a slice from a DataFrame.\n",
      "Try using .loc[row_indexer,col_indexer] = value instead\n",
      "\n",
      "See the caveats in the documentation: https://pandas.pydata.org/pandas-docs/stable/user_guide/indexing.html#returning-a-view-versus-a-copy\n",
      "  relevant_types['CARDNAME'] = [relevant_types['text'][x].replace(relevant_types['name'][x], \"[CARDNAME]\") for x in range(0,len(relevant_types['text']))]\n"
     ]
    }
   ],
   "source": [
    "#[CARDNAME] mask, when we feed our data to the machine learning model we don't want it to generate random or multiple names used willy nilly throughout the text, so we're going to let the user name the card and have the final output just replace cardname\n",
    "relevant_types['CARDNAME'] = [relevant_types['text'][x].replace(relevant_types['name'][x], \"[CARDNAME]\") for x in range(0,len(relevant_types['text']))]"
   ]
  },
  {
   "cell_type": "code",
   "execution_count": 13,
   "metadata": {},
   "outputs": [
    {
     "data": {
      "text/html": [
       "<div>\n",
       "<style scoped>\n",
       "    .dataframe tbody tr th:only-of-type {\n",
       "        vertical-align: middle;\n",
       "    }\n",
       "\n",
       "    .dataframe tbody tr th {\n",
       "        vertical-align: top;\n",
       "    }\n",
       "\n",
       "    .dataframe thead th {\n",
       "        text-align: right;\n",
       "    }\n",
       "</style>\n",
       "<table border=\"1\" class=\"dataframe\">\n",
       "  <thead>\n",
       "    <tr style=\"text-align: right;\">\n",
       "      <th></th>\n",
       "      <th>borderColor</th>\n",
       "      <th>colors</th>\n",
       "      <th>keywords</th>\n",
       "      <th>manaCost</th>\n",
       "      <th>manaValue</th>\n",
       "      <th>name</th>\n",
       "      <th>power</th>\n",
       "      <th>printings</th>\n",
       "      <th>rarity</th>\n",
       "      <th>setCode</th>\n",
       "      <th>subtypes</th>\n",
       "      <th>supertypes</th>\n",
       "      <th>text</th>\n",
       "      <th>toughness</th>\n",
       "      <th>type</th>\n",
       "      <th>types</th>\n",
       "      <th>CARDNAME</th>\n",
       "    </tr>\n",
       "  </thead>\n",
       "  <tbody>\n",
       "    <tr>\n",
       "      <th>0</th>\n",
       "      <td>black</td>\n",
       "      <td>W</td>\n",
       "      <td>First strike</td>\n",
       "      <td>{5}{W}{W}</td>\n",
       "      <td>7.0</td>\n",
       "      <td>Ancestor's Chosen</td>\n",
       "      <td>4</td>\n",
       "      <td>10E, JUD, UMA</td>\n",
       "      <td>uncommon</td>\n",
       "      <td>10E</td>\n",
       "      <td>Human, Cleric</td>\n",
       "      <td>NaN</td>\n",
       "      <td>First strike (This creature deals combat damag...</td>\n",
       "      <td>4</td>\n",
       "      <td>Creature — Human Cleric</td>\n",
       "      <td>Creature</td>\n",
       "      <td>First strike (This creature deals combat damag...</td>\n",
       "    </tr>\n",
       "    <tr>\n",
       "      <th>1</th>\n",
       "      <td>black</td>\n",
       "      <td>W</td>\n",
       "      <td>First strike</td>\n",
       "      <td>{5}{W}{W}</td>\n",
       "      <td>7.0</td>\n",
       "      <td>Ancestor's Chosen</td>\n",
       "      <td>4</td>\n",
       "      <td>10E, JUD, UMA</td>\n",
       "      <td>uncommon</td>\n",
       "      <td>10E</td>\n",
       "      <td>Human, Cleric</td>\n",
       "      <td>NaN</td>\n",
       "      <td>First strike (This creature deals combat damag...</td>\n",
       "      <td>4</td>\n",
       "      <td>Creature — Human Cleric</td>\n",
       "      <td>Creature</td>\n",
       "      <td>First strike (This creature deals combat damag...</td>\n",
       "    </tr>\n",
       "    <tr>\n",
       "      <th>2</th>\n",
       "      <td>black</td>\n",
       "      <td>W</td>\n",
       "      <td>Flying</td>\n",
       "      <td>{4}{W}</td>\n",
       "      <td>5.0</td>\n",
       "      <td>Angel of Mercy</td>\n",
       "      <td>3</td>\n",
       "      <td>10E, 8ED, 9ED, DDC, DVD, IMA, INV, JMP, MB1, P...</td>\n",
       "      <td>uncommon</td>\n",
       "      <td>10E</td>\n",
       "      <td>Angel</td>\n",
       "      <td>NaN</td>\n",
       "      <td>Flying\\nWhen Angel of Mercy enters the battlef...</td>\n",
       "      <td>3</td>\n",
       "      <td>Creature — Angel</td>\n",
       "      <td>Creature</td>\n",
       "      <td>Flying\\nWhen [CARDNAME] enters the battlefield...</td>\n",
       "    </tr>\n",
       "    <tr>\n",
       "      <th>3</th>\n",
       "      <td>black</td>\n",
       "      <td>W</td>\n",
       "      <td>Flying</td>\n",
       "      <td>{4}{W}</td>\n",
       "      <td>5.0</td>\n",
       "      <td>Angel of Mercy</td>\n",
       "      <td>3</td>\n",
       "      <td>10E, 8ED, 9ED, DDC, DVD, IMA, INV, JMP, MB1, P...</td>\n",
       "      <td>uncommon</td>\n",
       "      <td>10E</td>\n",
       "      <td>Angel</td>\n",
       "      <td>NaN</td>\n",
       "      <td>Flying\\nWhen Angel of Mercy enters the battlef...</td>\n",
       "      <td>3</td>\n",
       "      <td>Creature — Angel</td>\n",
       "      <td>Creature</td>\n",
       "      <td>Flying\\nWhen [CARDNAME] enters the battlefield...</td>\n",
       "    </tr>\n",
       "    <tr>\n",
       "      <th>4</th>\n",
       "      <td>black</td>\n",
       "      <td>W</td>\n",
       "      <td>NaN</td>\n",
       "      <td>{2}{W}</td>\n",
       "      <td>3.0</td>\n",
       "      <td>Angelic Blessing</td>\n",
       "      <td>NaN</td>\n",
       "      <td>10E, 9ED, EXO, P02, POR, PS11, S00, S99, TPR</td>\n",
       "      <td>common</td>\n",
       "      <td>10E</td>\n",
       "      <td>NaN</td>\n",
       "      <td>NaN</td>\n",
       "      <td>Target creature gets +3/+3 and gains flying un...</td>\n",
       "      <td>NaN</td>\n",
       "      <td>Sorcery</td>\n",
       "      <td>Sorcery</td>\n",
       "      <td>Target creature gets +3/+3 and gains flying un...</td>\n",
       "    </tr>\n",
       "  </tbody>\n",
       "</table>\n",
       "</div>"
      ],
      "text/plain": [
       "  borderColor colors      keywords   manaCost  manaValue               name  \\\n",
       "0       black      W  First strike  {5}{W}{W}        7.0  Ancestor's Chosen   \n",
       "1       black      W  First strike  {5}{W}{W}        7.0  Ancestor's Chosen   \n",
       "2       black      W        Flying     {4}{W}        5.0     Angel of Mercy   \n",
       "3       black      W        Flying     {4}{W}        5.0     Angel of Mercy   \n",
       "4       black      W           NaN     {2}{W}        3.0   Angelic Blessing   \n",
       "\n",
       "  power                                          printings    rarity setCode  \\\n",
       "0     4                                      10E, JUD, UMA  uncommon     10E   \n",
       "1     4                                      10E, JUD, UMA  uncommon     10E   \n",
       "2     3  10E, 8ED, 9ED, DDC, DVD, IMA, INV, JMP, MB1, P...  uncommon     10E   \n",
       "3     3  10E, 8ED, 9ED, DDC, DVD, IMA, INV, JMP, MB1, P...  uncommon     10E   \n",
       "4   NaN       10E, 9ED, EXO, P02, POR, PS11, S00, S99, TPR    common     10E   \n",
       "\n",
       "        subtypes supertypes  \\\n",
       "0  Human, Cleric        NaN   \n",
       "1  Human, Cleric        NaN   \n",
       "2          Angel        NaN   \n",
       "3          Angel        NaN   \n",
       "4            NaN        NaN   \n",
       "\n",
       "                                                text toughness  \\\n",
       "0  First strike (This creature deals combat damag...         4   \n",
       "1  First strike (This creature deals combat damag...         4   \n",
       "2  Flying\\nWhen Angel of Mercy enters the battlef...         3   \n",
       "3  Flying\\nWhen Angel of Mercy enters the battlef...         3   \n",
       "4  Target creature gets +3/+3 and gains flying un...       NaN   \n",
       "\n",
       "                      type     types  \\\n",
       "0  Creature — Human Cleric  Creature   \n",
       "1  Creature — Human Cleric  Creature   \n",
       "2         Creature — Angel  Creature   \n",
       "3         Creature — Angel  Creature   \n",
       "4                  Sorcery   Sorcery   \n",
       "\n",
       "                                            CARDNAME  \n",
       "0  First strike (This creature deals combat damag...  \n",
       "1  First strike (This creature deals combat damag...  \n",
       "2  Flying\\nWhen [CARDNAME] enters the battlefield...  \n",
       "3  Flying\\nWhen [CARDNAME] enters the battlefield...  \n",
       "4  Target creature gets +3/+3 and gains flying un...  "
      ]
     },
     "execution_count": 13,
     "metadata": {},
     "output_type": "execute_result"
    }
   ],
   "source": [
    "relevant_types.head()"
   ]
  },
  {
   "cell_type": "code",
   "execution_count": 16,
   "metadata": {},
   "outputs": [
    {
     "data": {
      "text/plain": [
       "colors\n",
       "G                11781\n",
       "B                11544\n",
       "W                11512\n",
       "R                11434\n",
       "U                11227\n",
       "U, W               909\n",
       "G, W               885\n",
       "B, U               859\n",
       "G, R               855\n",
       "B, R               852\n",
       "G, U               785\n",
       "R, W               746\n",
       "B, W               745\n",
       "R, U               738\n",
       "B, G               735\n",
       "B, R, U            294\n",
       "B, U, W            224\n",
       "G, R, W            208\n",
       "G, U, W            189\n",
       "B, G, R            188\n",
       "B, G, R, U, W      180\n",
       "R, U, W            142\n",
       "B, R, W            130\n",
       "B, G, W            121\n",
       "B, G, U            121\n",
       "G, R, U            110\n",
       "B, G, U, W          21\n",
       "G, R, U, W          18\n",
       "W, G                17\n",
       "U, B                13\n",
       "U, R                12\n",
       "U, G                12\n",
       "W, R                12\n",
       "W, U                11\n",
       "R, G                 8\n",
       "U, R, G              8\n",
       "B, R, U, W           8\n",
       "W, B                 7\n",
       "B, G, R, U           7\n",
       "B, G, R, W           6\n",
       "Name: count, dtype: int64"
      ]
     },
     "execution_count": 16,
     "metadata": {},
     "output_type": "execute_result"
    }
   ],
   "source": [
    "relevant_types.colors.value_counts()"
   ]
  },
  {
   "cell_type": "code",
   "execution_count": 17,
   "metadata": {},
   "outputs": [
    {
     "data": {
      "image/png": "[encoded data removed]",
      "text/plain": [
       "<Figure size 640x480 with 1 Axes>"
      ]
     },
     "metadata": {},
     "output_type": "display_data"
    }
   ],
   "source": [
    "plt.hist([len(x) for x in relevant_types['CARDNAME']])\n",
    "plt.title('hist of common text lengths for gpt2');"
   ]
  },
  {
   "cell_type": "code",
   "execution_count": 18,
   "metadata": {},
   "outputs": [
    {
     "data": {
      "text/plain": [
       "(142.9943930863511, 15)"
      ]
     },
     "execution_count": 18,
     "metadata": {},
     "output_type": "execute_result"
    }
   ],
   "source": [
    "from statistics import mean, mode\n",
    "mean([len(x) for x in relevant_types['CARDNAME']]), mode([len(x) for x in relevant_types['CARDNAME']]) #142, with 15 as the most commmon token length a 15 charachter card is probably something with 2 keywords for example flying, prowess "
   ]
  },
  {
   "cell_type": "code",
   "execution_count": 32,
   "metadata": {},
   "outputs": [],
   "source": [
    "# I'm now going to prepare the text to feed to my Language model by giving it some more information.\n",
    "\n",
    "def generate_text(color, manacost, types, type, text, iscreature = False, power = '', toughness = '',):\n",
    "    if iscreature == False:\n",
    "        return (f'This is a {color}, {types} magic card with manacost {manacost}. This is its rules text: {text}')\n",
    "    if iscreature == True:\n",
    "        return (f'This is a {color}, {type} magic card with manacost {manacost}, power {power}, and toughness {toughness}. This is its rules text: {text}')"
   ]
  },
  {
   "cell_type": "code",
   "execution_count": 17,
   "metadata": {},
   "outputs": [],
   "source": [
    "def generate_prompt(color, manacost, types, type, iscreature = False, power = '', toughness = ''):\n",
    "    if iscreature == False:\n",
    "        return (f'Generate rules text for a magic the gathering card. Its color is {color}, its type is {types}, and its manacost is {manacost}.')\n",
    "    if iscreature == True:\n",
    "        return (f'Generate rules text for a {color}, {types} magic the gathering card with manacost {manacost}, power {power}, and toughness {toughness}.')"
   ]
  },
  {
   "cell_type": "code",
   "execution_count": 33,
   "metadata": {},
   "outputs": [],
   "source": [
    "promp_list = []\n",
    "for x in range(0, len(relevant_types['CARDNAME'])): \n",
    "    if 'Creature' in relevant_types.loc[x]['types']:\n",
    "        promp_list.append(generate_text(color = relevant_types.loc[x]['colors'], manacost=relevant_types.loc[x]['manaCost'], types = relevant_types.loc[x]['types'],type = relevant_types.loc[x]['type']\n",
    "              , text = relevant_types.loc[x]['CARDNAME'], iscreature = True, power = relevant_types.loc[x]['power'], toughness = relevant_types.loc[x]['toughness']))\n",
    "    else:\n",
    "        promp_list.append(generate_text(color = relevant_types.loc[x]['colors'], manacost=relevant_types.loc[x]['manaCost'], types = relevant_types.loc[x]['types'],type = relevant_types.loc[x]['type']\n",
    "              , text = relevant_types.loc[x]['CARDNAME']))"
   ]
  },
  {
   "cell_type": "code",
   "execution_count": 31,
   "metadata": {},
   "outputs": [
    {
     "data": {
      "text/plain": [
       "['This is a W, Creature — Human Cleric magic card with manacost {5}{W}{W}, power (4, and toughness 4. This is its rules text: First strike (This creature deals combat damage before creatures without first strike.)\\\\nWhen [CARDNAME] enters the battlefield, you gain 1 life for each card in your graveyard.',\n",
       " 'This is a W, Creature — Human Cleric magic card with manacost {5}{W}{W}, power (4, and toughness 4. This is its rules text: First strike (This creature deals combat damage before creatures without first strike.)\\\\nWhen [CARDNAME] enters the battlefield, you gain 1 life for each card in your graveyard.',\n",
       " 'This is a W, Creature — Angel magic card with manacost {4}{W}, power (3, and toughness 3. This is its rules text: Flying\\\\nWhen [CARDNAME] enters the battlefield, you gain 3 life.',\n",
       " 'This is a W, Creature — Angel magic card with manacost {4}{W}, power (3, and toughness 3. This is its rules text: Flying\\\\nWhen [CARDNAME] enters the battlefield, you gain 3 life.',\n",
       " \"This is a W, Sorcery magic card with manacost {2}{W}. This is its rules text: Target creature gets +3/+3 and gains flying until end of turn. (It can't be blocked except by creatures with flying or reach.)\",\n",
       " \"This is a W, Sorcery magic card with manacost {2}{W}. This is its rules text: Target creature gets +3/+3 and gains flying until end of turn. (It can't be blocked except by creatures with flying or reach.)\",\n",
       " 'This is a W, Enchantment magic card with manacost {3}{W}{W}. This is its rules text: Whenever a creature enters the battlefield under your control, you gain life equal to its toughness.',\n",
       " \"This is a W, Creature — Wall magic card with manacost {1}{W}, power (0, and toughness 4. This is its rules text: Defender (This creature can't attack.)\\\\nFlying\",\n",
       " \"This is a W, Creature — Wall magic card with manacost {1}{W}, power (0, and toughness 4. This is its rules text: Defender (This creature can't attack.)\\\\nFlying\",\n",
       " 'This is a W, Enchantment magic card with manacost {1}{W}{W}. This is its rules text: Artifact and enchantment spells your opponents cast cost {2} more to cast.\\\\nSacrifice [CARDNAME]: Destroy target artifact or enchantment.']"
      ]
     },
     "execution_count": 31,
     "metadata": {},
     "output_type": "execute_result"
    }
   ],
   "source": [
    "promp_list[:10]"
   ]
  },
  {
   "cell_type": "code",
   "execution_count": 34,
   "metadata": {},
   "outputs": [
    {
     "name": "stderr",
     "output_type": "stream",
     "text": [
      "C:\\Users\\ellio\\AppData\\Local\\Temp\\ipykernel_15100\\1607348076.py:1: SettingWithCopyWarning: \n",
      "A value is trying to be set on a copy of a slice from a DataFrame.\n",
      "Try using .loc[row_indexer,col_indexer] = value instead\n",
      "\n",
      "See the caveats in the documentation: https://pandas.pydata.org/pandas-docs/stable/user_guide/indexing.html#returning-a-view-versus-a-copy\n",
      "  relevant_types['prompt'] = promp_list\n"
     ]
    }
   ],
   "source": [
    "relevant_types['prompt'] = promp_list"
   ]
  },
  {
   "cell_type": "code",
   "execution_count": 37,
   "metadata": {},
   "outputs": [
    {
     "data": {
      "text/plain": [
       "'This is a W, Creature — Human Cleric magic card with manacost {5}{W}{W}, power 4, and toughness 4. This is its rules text: First strike (This creature deals combat damage before creatures without first strike.)\\\\nWhen [CARDNAME] enters the battlefield, you gain 1 life for each card in your graveyard.'"
      ]
     },
     "execution_count": 37,
     "metadata": {},
     "output_type": "execute_result"
    }
   ],
   "source": [
    "relevant_types['prompt'][1]"
   ]
  },
  {
   "cell_type": "code",
   "execution_count": 38,
   "metadata": {},
   "outputs": [
    {
     "data": {
      "text/html": [
       "<div>\n",
       "<style scoped>\n",
       "    .dataframe tbody tr th:only-of-type {\n",
       "        vertical-align: middle;\n",
       "    }\n",
       "\n",
       "    .dataframe tbody tr th {\n",
       "        vertical-align: top;\n",
       "    }\n",
       "\n",
       "    .dataframe thead th {\n",
       "        text-align: right;\n",
       "    }\n",
       "</style>\n",
       "<table border=\"1\" class=\"dataframe\">\n",
       "  <thead>\n",
       "    <tr style=\"text-align: right;\">\n",
       "      <th></th>\n",
       "      <th>borderColor</th>\n",
       "      <th>colors</th>\n",
       "      <th>keywords</th>\n",
       "      <th>manaCost</th>\n",
       "      <th>manaValue</th>\n",
       "      <th>name</th>\n",
       "      <th>power</th>\n",
       "      <th>printings</th>\n",
       "      <th>rarity</th>\n",
       "      <th>setCode</th>\n",
       "      <th>subtypes</th>\n",
       "      <th>supertypes</th>\n",
       "      <th>text</th>\n",
       "      <th>toughness</th>\n",
       "      <th>type</th>\n",
       "      <th>types</th>\n",
       "      <th>CARDNAME</th>\n",
       "      <th>prompt</th>\n",
       "    </tr>\n",
       "  </thead>\n",
       "  <tbody>\n",
       "    <tr>\n",
       "      <th>0</th>\n",
       "      <td>black</td>\n",
       "      <td>W</td>\n",
       "      <td>First strike</td>\n",
       "      <td>{5}{W}{W}</td>\n",
       "      <td>7.0</td>\n",
       "      <td>Ancestor's Chosen</td>\n",
       "      <td>4</td>\n",
       "      <td>10E, JUD, UMA</td>\n",
       "      <td>uncommon</td>\n",
       "      <td>10E</td>\n",
       "      <td>Human, Cleric</td>\n",
       "      <td>NaN</td>\n",
       "      <td>First strike (This creature deals combat damag...</td>\n",
       "      <td>4</td>\n",
       "      <td>Creature — Human Cleric</td>\n",
       "      <td>Creature</td>\n",
       "      <td>First strike (This creature deals combat damag...</td>\n",
       "      <td>This is a W, Creature — Human Cleric magic car...</td>\n",
       "    </tr>\n",
       "    <tr>\n",
       "      <th>1</th>\n",
       "      <td>black</td>\n",
       "      <td>W</td>\n",
       "      <td>First strike</td>\n",
       "      <td>{5}{W}{W}</td>\n",
       "      <td>7.0</td>\n",
       "      <td>Ancestor's Chosen</td>\n",
       "      <td>4</td>\n",
       "      <td>10E, JUD, UMA</td>\n",
       "      <td>uncommon</td>\n",
       "      <td>10E</td>\n",
       "      <td>Human, Cleric</td>\n",
       "      <td>NaN</td>\n",
       "      <td>First strike (This creature deals combat damag...</td>\n",
       "      <td>4</td>\n",
       "      <td>Creature — Human Cleric</td>\n",
       "      <td>Creature</td>\n",
       "      <td>First strike (This creature deals combat damag...</td>\n",
       "      <td>This is a W, Creature — Human Cleric magic car...</td>\n",
       "    </tr>\n",
       "    <tr>\n",
       "      <th>2</th>\n",
       "      <td>black</td>\n",
       "      <td>W</td>\n",
       "      <td>Flying</td>\n",
       "      <td>{4}{W}</td>\n",
       "      <td>5.0</td>\n",
       "      <td>Angel of Mercy</td>\n",
       "      <td>3</td>\n",
       "      <td>10E, 8ED, 9ED, DDC, DVD, IMA, INV, JMP, MB1, P...</td>\n",
       "      <td>uncommon</td>\n",
       "      <td>10E</td>\n",
       "      <td>Angel</td>\n",
       "      <td>NaN</td>\n",
       "      <td>Flying\\nWhen Angel of Mercy enters the battlef...</td>\n",
       "      <td>3</td>\n",
       "      <td>Creature — Angel</td>\n",
       "      <td>Creature</td>\n",
       "      <td>Flying\\nWhen [CARDNAME] enters the battlefield...</td>\n",
       "      <td>This is a W, Creature — Angel magic card with ...</td>\n",
       "    </tr>\n",
       "    <tr>\n",
       "      <th>3</th>\n",
       "      <td>black</td>\n",
       "      <td>W</td>\n",
       "      <td>Flying</td>\n",
       "      <td>{4}{W}</td>\n",
       "      <td>5.0</td>\n",
       "      <td>Angel of Mercy</td>\n",
       "      <td>3</td>\n",
       "      <td>10E, 8ED, 9ED, DDC, DVD, IMA, INV, JMP, MB1, P...</td>\n",
       "      <td>uncommon</td>\n",
       "      <td>10E</td>\n",
       "      <td>Angel</td>\n",
       "      <td>NaN</td>\n",
       "      <td>Flying\\nWhen Angel of Mercy enters the battlef...</td>\n",
       "      <td>3</td>\n",
       "      <td>Creature — Angel</td>\n",
       "      <td>Creature</td>\n",
       "      <td>Flying\\nWhen [CARDNAME] enters the battlefield...</td>\n",
       "      <td>This is a W, Creature — Angel magic card with ...</td>\n",
       "    </tr>\n",
       "    <tr>\n",
       "      <th>4</th>\n",
       "      <td>black</td>\n",
       "      <td>W</td>\n",
       "      <td>NaN</td>\n",
       "      <td>{2}{W}</td>\n",
       "      <td>3.0</td>\n",
       "      <td>Angelic Blessing</td>\n",
       "      <td>NaN</td>\n",
       "      <td>10E, 9ED, EXO, P02, POR, PS11, S00, S99, TPR</td>\n",
       "      <td>common</td>\n",
       "      <td>10E</td>\n",
       "      <td>NaN</td>\n",
       "      <td>NaN</td>\n",
       "      <td>Target creature gets +3/+3 and gains flying un...</td>\n",
       "      <td>NaN</td>\n",
       "      <td>Sorcery</td>\n",
       "      <td>Sorcery</td>\n",
       "      <td>Target creature gets +3/+3 and gains flying un...</td>\n",
       "      <td>This is a W, Sorcery magic card with manacost ...</td>\n",
       "    </tr>\n",
       "  </tbody>\n",
       "</table>\n",
       "</div>"
      ],
      "text/plain": [
       "  borderColor colors      keywords   manaCost  manaValue               name  \\\n",
       "0       black      W  First strike  {5}{W}{W}        7.0  Ancestor's Chosen   \n",
       "1       black      W  First strike  {5}{W}{W}        7.0  Ancestor's Chosen   \n",
       "2       black      W        Flying     {4}{W}        5.0     Angel of Mercy   \n",
       "3       black      W        Flying     {4}{W}        5.0     Angel of Mercy   \n",
       "4       black      W           NaN     {2}{W}        3.0   Angelic Blessing   \n",
       "\n",
       "  power                                          printings    rarity setCode  \\\n",
       "0     4                                      10E, JUD, UMA  uncommon     10E   \n",
       "1     4                                      10E, JUD, UMA  uncommon     10E   \n",
       "2     3  10E, 8ED, 9ED, DDC, DVD, IMA, INV, JMP, MB1, P...  uncommon     10E   \n",
       "3     3  10E, 8ED, 9ED, DDC, DVD, IMA, INV, JMP, MB1, P...  uncommon     10E   \n",
       "4   NaN       10E, 9ED, EXO, P02, POR, PS11, S00, S99, TPR    common     10E   \n",
       "\n",
       "        subtypes supertypes  \\\n",
       "0  Human, Cleric        NaN   \n",
       "1  Human, Cleric        NaN   \n",
       "2          Angel        NaN   \n",
       "3          Angel        NaN   \n",
       "4            NaN        NaN   \n",
       "\n",
       "                                                text toughness  \\\n",
       "0  First strike (This creature deals combat damag...         4   \n",
       "1  First strike (This creature deals combat damag...         4   \n",
       "2  Flying\\nWhen Angel of Mercy enters the battlef...         3   \n",
       "3  Flying\\nWhen Angel of Mercy enters the battlef...         3   \n",
       "4  Target creature gets +3/+3 and gains flying un...       NaN   \n",
       "\n",
       "                      type     types  \\\n",
       "0  Creature — Human Cleric  Creature   \n",
       "1  Creature — Human Cleric  Creature   \n",
       "2         Creature — Angel  Creature   \n",
       "3         Creature — Angel  Creature   \n",
       "4                  Sorcery   Sorcery   \n",
       "\n",
       "                                            CARDNAME  \\\n",
       "0  First strike (This creature deals combat damag...   \n",
       "1  First strike (This creature deals combat damag...   \n",
       "2  Flying\\nWhen [CARDNAME] enters the battlefield...   \n",
       "3  Flying\\nWhen [CARDNAME] enters the battlefield...   \n",
       "4  Target creature gets +3/+3 and gains flying un...   \n",
       "\n",
       "                                              prompt  \n",
       "0  This is a W, Creature — Human Cleric magic car...  \n",
       "1  This is a W, Creature — Human Cleric magic car...  \n",
       "2  This is a W, Creature — Angel magic card with ...  \n",
       "3  This is a W, Creature — Angel magic card with ...  \n",
       "4  This is a W, Sorcery magic card with manacost ...  "
      ]
     },
     "execution_count": 38,
     "metadata": {},
     "output_type": "execute_result"
    }
   ],
   "source": [
    "relevant_types.head()"
   ]
  },
  {
   "cell_type": "code",
   "execution_count": null,
   "metadata": {},
   "outputs": [],
   "source": [
    "#given initial model fine tuning it seems likely we should split the cardtypes and call a different saved model everytime for the card types, land, creature, instant, sorcery, planeswalker, artifact, enchantment"
   ]
  },
  {
   "cell_type": "markdown",
   "metadata": {},
   "source": [
    "## MODEL ## "
   ]
  },
  {
   "cell_type": "code",
   "execution_count": 19,
   "metadata": {},
   "outputs": [],
   "source": [
    "from transformers import pipeline \n",
    "import tensorflow.python.keras.engine"
   ]
  },
  {
   "cell_type": "code",
   "execution_count": 20,
   "metadata": {},
   "outputs": [],
   "source": [
    "from transformers import AutoModelForCausalLM, AutoTokenizer #playing with this     \n",
    "import torch\n",
    "\n",
    "torch_device = \"cuda\" if torch.cuda.is_available() else \"cpu\"\n",
    "\n",
    "tokenizer = AutoTokenizer.from_pretrained(\"gpt2\")\n",
    "\n",
    "# add the EOS token as PAD tok|en to avoid warnings\n",
    "model = AutoModelForCausalLM.from_pretrained(\"gpt2\", pad_token_id=tokenizer.eos_token_id).to(torch_device)"
   ]
  },
  {
   "cell_type": "code",
   "execution_count": 21,
   "metadata": {},
   "outputs": [
    {
     "name": "stderr",
     "output_type": "stream",
     "text": [
      "c:\\Users\\ellio\\anaconda3\\Lib\\site-packages\\transformers\\generation\\utils.py:1219: UserWarning: You have modified the pretrained model configuration to control generation. This is a deprecated strategy to control generation and will be removed soon, in a future version. Please use a generation configuration file (see https://huggingface.co/docs/transformers/main_classes/text_generation)\n",
      "  warnings.warn(\n"
     ]
    },
    {
     "name": "stdout",
     "output_type": "stream",
     "text": [
      "Output:\n",
      "----------------------------------------------------------------------------------------------------\n",
      "Generate rules text for a W, Creature magic the gathering card with manacost {5}{W}{W}, power 4, and toughness 4.\n",
      "\n",
      "If you cast a spell with the name \"Wizard of the Coast,\" you may pay {W}{W}, remove a card from your hand, then put it into your graveyard.\n",
      "\n",
      "If you cast a spell with the name \"\n"
     ]
    }
   ],
   "source": [
    "\n",
    "card_1 = generate_prompt(color = relevant_types.loc[1]['colors'], manacost=relevant_types.loc[1]['manaCost'], types = relevant_types.loc[1]['types'],type = relevant_types.loc[1]['type']\n",
    "              , power= relevant_types.loc[1]['power'], toughness= relevant_types.loc[1]['toughness'], iscreature=True)\n",
    "\n",
    "model_inputs = tokenizer(card_1, return_tensors='pt').to(torch_device)\n",
    "\n",
    "# generate 40 new tokens\n",
    "greedy_output = model.generate(**model_inputs, max_new_tokens=50)\n",
    "\n",
    "print(\"Output:\\n\" + 100 * '-')\n",
    "print(tokenizer.decode(greedy_output[0], skip_special_tokens=True)) "
   ]
  },
  {
   "cell_type": "markdown",
   "metadata": {},
   "source": [
    "# interpretation # \n",
    "So there are two problems with this card one it's rules text doesn't make sense, two it's producing multiple \"if you cast\" options, you can only cast a spell once if you were able to do multiple things when you cast it the formattting should be:\n",
    "if you cast this/a spell: do A, do B\n",
    "not \n",
    "if you cast this/a spell: do A\n",
    "if you cast this/a spell: do A"
   ]
  },
  {
   "cell_type": "markdown",
   "metadata": {},
   "source": [
    "Code source moved to google collab https://gist.github.com/MattPitlyk/45541145ad48b93da395f0a72ec2e7dc"
   ]
  },
  {
   "cell_type": "markdown",
   "metadata": {},
   "source": [
    "## reutrning after practice ##\n",
    "So, instead of making 1 text file we're going to make a couple splits down card type for creature, instant/sorcery, enchantment, artifact, and land. Then we're going to feed that to a couple seperate models and compare how multiple models do against the original in google collab."
   ]
  },
  {
   "cell_type": "code",
   "execution_count": 3,
   "metadata": {},
   "outputs": [
    {
     "name": "stderr",
     "output_type": "stream",
     "text": [
      "Fetching checkpoint: 1.05Mit [00:00, ?it/s]                                                         \n",
      "Fetching encoder.json: 1.05Mit [00:00, 1.96Mit/s]                                                   \n",
      "Fetching hparams.json: 1.05Mit [00:00, ?it/s]                                                       \n",
      "Fetching model.ckpt.data-00000-of-00001: 498Mit [04:23, 1.89Mit/s]                                  \n",
      "Fetching model.ckpt.index: 1.05Mit [00:00, 9.07Git/s]                                               \n",
      "Fetching model.ckpt.meta: 1.05Mit [00:00, 4.40Mit/s]                                                \n",
      "Fetching vocab.bpe: 1.05Mit [00:00, 3.87Mit/s]                                                      \n"
     ]
    }
   ],
   "source": [
    "import gpt_2_simple as gpt2 #we're only gonna run this once then it's saved learned that the hard way.\n",
    "#gpt2.download_gpt2(model_name=\"124M\")"
   ]
  },
  {
   "cell_type": "code",
   "execution_count": 42,
   "metadata": {},
   "outputs": [
    {
     "data": {
      "text/plain": [
       "array(['Creature', 'Sorcery', 'Enchantment', 'Instant', 'Artifact',\n",
       "       'Artifact, Creature', 'Land', 'Tribal, Enchantment',\n",
       "       'Tribal, Instant', 'Planeswalker', 'Enchantment, Creature',\n",
       "       'Artifact, Land', 'Enchantment, Artifact', 'Tribal, Sorcery',\n",
       "       'Vanguard', 'Instant, Creature', 'Summon', 'Summon, Wolf',\n",
       "       'Elemental, Instant', 'Enchantment, Land', 'Land, Creature',\n",
       "       'Conspiracy', 'Tribal, Artifact', 'Plane', 'Phenomenon', 'Battle',\n",
       "       'Scheme', 'Summon, Jaguar', 'Summon, Dragon', 'Summon, Goblin',\n",
       "       'Summon, Knights', 'Summon, Legend', 'Universewalker', 'Stickers',\n",
       "       'Hero', 'Hero, Artifact', \"Scariest, Creature, You'll, Ever, See\",\n",
       "       'Artifact, Enchantment', 'Eaturecray', 'instant',\n",
       "       'Instant, Adventure'], dtype=object)"
      ]
     },
     "execution_count": 42,
     "metadata": {},
     "output_type": "execute_result"
    }
   ],
   "source": [
    "relevant_types['types'].unique()"
   ]
  },
  {
   "cell_type": "code",
   "execution_count": 57,
   "metadata": {},
   "outputs": [],
   "source": [
    "text_fine_tune = [x for x in relevant_types['prompt']]\n",
    "creature_fine_tune = [x for x in relevant_types[(relevant_types['types'] == 'Creature')]['prompt']]\n",
    "spell_fine_tune = [x for x in relevant_types[(relevant_types['types'] == 'Sorcery') | (relevant_types['types'] == 'Instant')]['prompt']]\n",
    "artifact_fine_tune = [x for x in relevant_types[(relevant_types['types'] == 'Artifact')]['prompt']]\n",
    "enchantment_fine_tune = [x for x in relevant_types[(relevant_types['types'] == 'Enchantment')]['prompt']]\n",
    "land_fine_tune = [x for x in relevant_types[(relevant_types['types'] == 'Land')]['prompt']]"
   ]
  },
  {
   "cell_type": "code",
   "execution_count": 59,
   "metadata": {},
   "outputs": [
    {
     "data": {
      "text/plain": [
       "['This is a nan, Land magic card with manacost nan. This is its rules text: {T}: Add {C}.\\\\n{T}: Add {W} or {U}. [CARDNAME] deals 1 damage to you.',\n",
       " 'This is a nan, Land magic card with manacost nan. This is its rules text: {T}: Add {C}.\\\\n{T}: Add {R} or {W}. [CARDNAME] deals 1 damage to you.',\n",
       " 'This is a nan, Land magic card with manacost nan. This is its rules text: {T}: Add {C}.\\\\n{T}: Add {G} or {W}. [CARDNAME] deals 1 damage to you.',\n",
       " 'This is a nan, Land magic card with manacost nan. This is its rules text: {T}: Add {C}.\\\\n{T}: Add {W} or {B}. [CARDNAME] deals 1 damage to you.',\n",
       " \"This is a nan, Land magic card with manacost nan. This is its rules text: [CARDNAME] enters the battlefield tapped.\\\\n{T}: Add {U}.\\\\n{1}{U}: [CARDNAME] becomes a 2/1 blue Faerie creature with flying until end of turn. It's still a land.\",\n",
       " \"This is a nan, Land magic card with manacost nan. This is its rules text: [CARDNAME] enters the battlefield tapped.\\\\n{T}: Add {U}.\\\\n{1}{U}: [CARDNAME] becomes a 2/1 blue Faerie creature with flying until end of turn. It's still a land.\",\n",
       " \"This is a nan, Land magic card with manacost nan. This is its rules text: [CARDNAME] enters the battlefield tapped.\\\\n{T}: Add {W}.\\\\n{1}{W}: [CARDNAME] becomes a 1/5 white Soldier creature until end of turn. It's still a land.\",\n",
       " \"This is a nan, Land magic card with manacost nan. This is its rules text: [CARDNAME] enters the battlefield tapped.\\\\n{T}: Add {R}.\\\\n{1}{R}: [CARDNAME] becomes a 2/1 red Warrior creature with first strike until end of turn. It's still a land. (It deals combat damage before creatures without first strike.)\",\n",
       " \"This is a nan, Land magic card with manacost nan. This is its rules text: [CARDNAME] enters the battlefield tapped.\\\\n{T}: Add {R}.\\\\n{1}{R}: [CARDNAME] becomes a 2/1 red Warrior creature with first strike until end of turn. It's still a land. (It deals combat damage before creatures without first strike.)\",\n",
       " 'This is a nan, Land magic card with manacost nan. This is its rules text: {T}: Add {C}.\\\\n{T}: Add {R} or {G}. [CARDNAME] deals 1 damage to you.']"
      ]
     },
     "execution_count": 59,
     "metadata": {},
     "output_type": "execute_result"
    }
   ],
   "source": [
    "land_fine_tune[:10]"
   ]
  },
  {
   "cell_type": "code",
   "execution_count": 40,
   "metadata": {},
   "outputs": [
    {
     "data": {
      "text/plain": [
       "[\"This is a B, Creature magic card with manacost {3}{B}, power *, and toughness *. This is its rules text: Trample\\\\nAs [CARDNAME] enters the battlefield, pay any amount of life. The amount you pay can't be more than the total number of white nontoken permanents your opponents control plus the total number of white cards in their graveyards.\\\\n[CARDNAME]'s power and toughness are each equal to the life paid as it entered the battlefield.\"]"
      ]
     },
     "execution_count": 40,
     "metadata": {},
     "output_type": "execute_result"
    }
   ],
   "source": [
    "creature_fine_tune[:10]"
   ]
  },
  {
   "cell_type": "code",
   "execution_count": 50,
   "metadata": {},
   "outputs": [
    {
     "data": {
      "image/png": "[encoded data removed]",
      "text/plain": [
       "<Figure size 640x480 with 1 Axes>"
      ]
     },
     "metadata": {},
     "output_type": "display_data"
    }
   ],
   "source": [
    "plt.hist([(len(text_fine_tune), len(creature_fine_tune), len(spell_fine_tune), len(artifact_fine_tune), len(enchantment_fine_tune), len(land_fine_tune))])\n",
    "plt.title('length of fine tune inputs')\n",
    "plt.xlabel('number of cards')\n",
    "plt.ylabel('number of prompt files with this number');"
   ]
  },
  {
   "cell_type": "code",
   "execution_count": 58,
   "metadata": {},
   "outputs": [
    {
     "name": "stdout",
     "output_type": "stream",
     "text": [
      "Done\n"
     ]
    }
   ],
   "source": [
    "#make a txt file for gpt to use https://pynative.com/python-write-list-to-file/\n",
    "# make file with all cards\n",
    "with open(r'text_fine_tune.txt', 'w') as fp:\n",
    "    for item in text_fine_tune:\n",
    "        # write each item on a new line\n",
    "        fp.write(\"%s\\n\" % item)\n",
    "    print('Done')"
   ]
  },
  {
   "cell_type": "code",
   "execution_count": 52,
   "metadata": {},
   "outputs": [
    {
     "name": "stdout",
     "output_type": "stream",
     "text": [
      "Done\n"
     ]
    }
   ],
   "source": [
    "#make file with creatures\n",
    "with open(r'creature_fine_tune.txt', 'w') as fp:\n",
    "    for item in creature_fine_tune:\n",
    "        # write each item on a new line\n",
    "        fp.write(\"%s\\n\" % item)\n",
    "    print('Done')"
   ]
  },
  {
   "cell_type": "code",
   "execution_count": 53,
   "metadata": {},
   "outputs": [
    {
     "name": "stdout",
     "output_type": "stream",
     "text": [
      "Done\n"
     ]
    }
   ],
   "source": [
    "#make file with spells\n",
    "with open(r'spells_fine_tune.txt', 'w') as fp:\n",
    "    for item in spell_fine_tune:\n",
    "        # write each item on a new line\n",
    "        fp.write(\"%s\\n\" % item)\n",
    "    print('Done')"
   ]
  },
  {
   "cell_type": "code",
   "execution_count": 54,
   "metadata": {},
   "outputs": [
    {
     "name": "stdout",
     "output_type": "stream",
     "text": [
      "Done\n"
     ]
    }
   ],
   "source": [
    "#make file with artifacts\n",
    "with open(r'artifact_fine_tune.txt', 'w') as fp:\n",
    "    for item in artifact_fine_tune:\n",
    "        # write each item on a new line\n",
    "        fp.write(\"%s\\n\" % item)\n",
    "    print('Done')"
   ]
  },
  {
   "cell_type": "code",
   "execution_count": 55,
   "metadata": {},
   "outputs": [
    {
     "name": "stdout",
     "output_type": "stream",
     "text": [
      "Done\n"
     ]
    }
   ],
   "source": [
    "#make file with enchantments\n",
    "with open(r'enchantment_fine_tune.txt', 'w') as fp:\n",
    "    for item in enchantment_fine_tune:\n",
    "        # write each item on a new line\n",
    "        fp.write(\"%s\\n\" % item)\n",
    "    print('Done')"
   ]
  },
  {
   "cell_type": "code",
   "execution_count": 56,
   "metadata": {},
   "outputs": [
    {
     "name": "stdout",
     "output_type": "stream",
     "text": [
      "Done\n"
     ]
    }
   ],
   "source": [
    "#make file with creatures\n",
    "with open(r'land_fine_tune.txt', 'w') as fp:\n",
    "    for item in land_fine_tune:\n",
    "        # write each item on a new line\n",
    "        fp.write(\"%s\\n\" % item)\n",
    "    print('Done')\n"
   ]
  },
  {
   "cell_type": "markdown",
   "metadata": {},
   "source": [
    "## now we'll upload those text files to google drive so we can mount them with the pictures and have our model access them ##"
   ]
  },
  {
   "cell_type": "code",
   "execution_count": null,
   "metadata": {},
   "outputs": [],
   "source": [
    "#moved to goole collab for GPU/TPU\n",
    "#sess = gpt2.start_tf_sess()\n",
    "\n",
    "#gpt2.finetune(sess, 'text_fine_tune.txt', steps=200, model_name='124M', only_train_transformer_layers=True) "
   ]
  },
  {
   "cell_type": "markdown",
   "metadata": {},
   "source": [
    "## checking model accuracies with basic NLP ##"
   ]
  },
  {
   "cell_type": "code",
   "execution_count": 179,
   "metadata": {},
   "outputs": [],
   "source": [
    "all_cards_df = pd.read_csv('all_cards.csv')\n",
    "artifact_cards_df = pd.read_csv('artifact_cards.csv')\n",
    "creature_cards_df = pd.read_csv('creature_cards.csv')\n",
    "enchantment_cards_df = pd.read_csv('enchantment_cards.csv')\n",
    "land_cards_df = pd.read_csv('land_cards.csv')\n",
    "spell_cards_df = pd.read_csv('spell_cards.csv')"
   ]
  },
  {
   "cell_type": "code",
   "execution_count": 180,
   "metadata": {},
   "outputs": [],
   "source": [
    "etb_prompts = relevant_types.loc[(relevant_types['CARDNAME'].str).contains('enters the battlefield')]"
   ]
  },
  {
   "cell_type": "code",
   "execution_count": 181,
   "metadata": {},
   "outputs": [
    {
     "data": {
      "text/html": [
       "<div>\n",
       "<style scoped>\n",
       "    .dataframe tbody tr th:only-of-type {\n",
       "        vertical-align: middle;\n",
       "    }\n",
       "\n",
       "    .dataframe tbody tr th {\n",
       "        vertical-align: top;\n",
       "    }\n",
       "\n",
       "    .dataframe thead th {\n",
       "        text-align: right;\n",
       "    }\n",
       "</style>\n",
       "<table border=\"1\" class=\"dataframe\">\n",
       "  <thead>\n",
       "    <tr style=\"text-align: right;\">\n",
       "      <th></th>\n",
       "      <th>borderColor</th>\n",
       "      <th>colors</th>\n",
       "      <th>keywords</th>\n",
       "      <th>manaCost</th>\n",
       "      <th>manaValue</th>\n",
       "      <th>name</th>\n",
       "      <th>power</th>\n",
       "      <th>printings</th>\n",
       "      <th>rarity</th>\n",
       "      <th>setCode</th>\n",
       "      <th>subtypes</th>\n",
       "      <th>supertypes</th>\n",
       "      <th>text</th>\n",
       "      <th>toughness</th>\n",
       "      <th>type</th>\n",
       "      <th>types</th>\n",
       "      <th>CARDNAME</th>\n",
       "      <th>prompt</th>\n",
       "    </tr>\n",
       "  </thead>\n",
       "  <tbody>\n",
       "    <tr>\n",
       "      <th>0</th>\n",
       "      <td>black</td>\n",
       "      <td>W</td>\n",
       "      <td>First strike</td>\n",
       "      <td>{5}{W}{W}</td>\n",
       "      <td>7.0</td>\n",
       "      <td>Ancestor's Chosen</td>\n",
       "      <td>4</td>\n",
       "      <td>10E, JUD, UMA</td>\n",
       "      <td>uncommon</td>\n",
       "      <td>10E</td>\n",
       "      <td>Human, Cleric</td>\n",
       "      <td>NaN</td>\n",
       "      <td>First strike (This creature deals combat damag...</td>\n",
       "      <td>4</td>\n",
       "      <td>Creature — Human Cleric</td>\n",
       "      <td>Creature</td>\n",
       "      <td>First strike (This creature deals combat damag...</td>\n",
       "      <td>This is a W, Creature — Human Cleric magic car...</td>\n",
       "    </tr>\n",
       "    <tr>\n",
       "      <th>1</th>\n",
       "      <td>black</td>\n",
       "      <td>W</td>\n",
       "      <td>First strike</td>\n",
       "      <td>{5}{W}{W}</td>\n",
       "      <td>7.0</td>\n",
       "      <td>Ancestor's Chosen</td>\n",
       "      <td>4</td>\n",
       "      <td>10E, JUD, UMA</td>\n",
       "      <td>uncommon</td>\n",
       "      <td>10E</td>\n",
       "      <td>Human, Cleric</td>\n",
       "      <td>NaN</td>\n",
       "      <td>First strike (This creature deals combat damag...</td>\n",
       "      <td>4</td>\n",
       "      <td>Creature — Human Cleric</td>\n",
       "      <td>Creature</td>\n",
       "      <td>First strike (This creature deals combat damag...</td>\n",
       "      <td>This is a W, Creature — Human Cleric magic car...</td>\n",
       "    </tr>\n",
       "    <tr>\n",
       "      <th>2</th>\n",
       "      <td>black</td>\n",
       "      <td>W</td>\n",
       "      <td>Flying</td>\n",
       "      <td>{4}{W}</td>\n",
       "      <td>5.0</td>\n",
       "      <td>Angel of Mercy</td>\n",
       "      <td>3</td>\n",
       "      <td>10E, 8ED, 9ED, DDC, DVD, IMA, INV, JMP, MB1, P...</td>\n",
       "      <td>uncommon</td>\n",
       "      <td>10E</td>\n",
       "      <td>Angel</td>\n",
       "      <td>NaN</td>\n",
       "      <td>Flying\\nWhen Angel of Mercy enters the battlef...</td>\n",
       "      <td>3</td>\n",
       "      <td>Creature — Angel</td>\n",
       "      <td>Creature</td>\n",
       "      <td>Flying\\nWhen [CARDNAME] enters the battlefield...</td>\n",
       "      <td>This is a W, Creature — Angel magic card with ...</td>\n",
       "    </tr>\n",
       "    <tr>\n",
       "      <th>3</th>\n",
       "      <td>black</td>\n",
       "      <td>W</td>\n",
       "      <td>Flying</td>\n",
       "      <td>{4}{W}</td>\n",
       "      <td>5.0</td>\n",
       "      <td>Angel of Mercy</td>\n",
       "      <td>3</td>\n",
       "      <td>10E, 8ED, 9ED, DDC, DVD, IMA, INV, JMP, MB1, P...</td>\n",
       "      <td>uncommon</td>\n",
       "      <td>10E</td>\n",
       "      <td>Angel</td>\n",
       "      <td>NaN</td>\n",
       "      <td>Flying\\nWhen Angel of Mercy enters the battlef...</td>\n",
       "      <td>3</td>\n",
       "      <td>Creature — Angel</td>\n",
       "      <td>Creature</td>\n",
       "      <td>Flying\\nWhen [CARDNAME] enters the battlefield...</td>\n",
       "      <td>This is a W, Creature — Angel magic card with ...</td>\n",
       "    </tr>\n",
       "    <tr>\n",
       "      <th>6</th>\n",
       "      <td>black</td>\n",
       "      <td>W</td>\n",
       "      <td>NaN</td>\n",
       "      <td>{3}{W}{W}</td>\n",
       "      <td>5.0</td>\n",
       "      <td>Angelic Chorus</td>\n",
       "      <td>NaN</td>\n",
       "      <td>10E, BBD, USG</td>\n",
       "      <td>rare</td>\n",
       "      <td>10E</td>\n",
       "      <td>NaN</td>\n",
       "      <td>NaN</td>\n",
       "      <td>Whenever a creature enters the battlefield und...</td>\n",
       "      <td>NaN</td>\n",
       "      <td>Enchantment</td>\n",
       "      <td>Enchantment</td>\n",
       "      <td>Whenever a creature enters the battlefield und...</td>\n",
       "      <td>This is a W, Enchantment magic card with manac...</td>\n",
       "    </tr>\n",
       "  </tbody>\n",
       "</table>\n",
       "</div>"
      ],
      "text/plain": [
       "  borderColor colors      keywords   manaCost  manaValue               name  \\\n",
       "0       black      W  First strike  {5}{W}{W}        7.0  Ancestor's Chosen   \n",
       "1       black      W  First strike  {5}{W}{W}        7.0  Ancestor's Chosen   \n",
       "2       black      W        Flying     {4}{W}        5.0     Angel of Mercy   \n",
       "3       black      W        Flying     {4}{W}        5.0     Angel of Mercy   \n",
       "6       black      W           NaN  {3}{W}{W}        5.0     Angelic Chorus   \n",
       "\n",
       "  power                                          printings    rarity setCode  \\\n",
       "0     4                                      10E, JUD, UMA  uncommon     10E   \n",
       "1     4                                      10E, JUD, UMA  uncommon     10E   \n",
       "2     3  10E, 8ED, 9ED, DDC, DVD, IMA, INV, JMP, MB1, P...  uncommon     10E   \n",
       "3     3  10E, 8ED, 9ED, DDC, DVD, IMA, INV, JMP, MB1, P...  uncommon     10E   \n",
       "6   NaN                                      10E, BBD, USG      rare     10E   \n",
       "\n",
       "        subtypes supertypes  \\\n",
       "0  Human, Cleric        NaN   \n",
       "1  Human, Cleric        NaN   \n",
       "2          Angel        NaN   \n",
       "3          Angel        NaN   \n",
       "6            NaN        NaN   \n",
       "\n",
       "                                                text toughness  \\\n",
       "0  First strike (This creature deals combat damag...         4   \n",
       "1  First strike (This creature deals combat damag...         4   \n",
       "2  Flying\\nWhen Angel of Mercy enters the battlef...         3   \n",
       "3  Flying\\nWhen Angel of Mercy enters the battlef...         3   \n",
       "6  Whenever a creature enters the battlefield und...       NaN   \n",
       "\n",
       "                      type        types  \\\n",
       "0  Creature — Human Cleric     Creature   \n",
       "1  Creature — Human Cleric     Creature   \n",
       "2         Creature — Angel     Creature   \n",
       "3         Creature — Angel     Creature   \n",
       "6              Enchantment  Enchantment   \n",
       "\n",
       "                                            CARDNAME  \\\n",
       "0  First strike (This creature deals combat damag...   \n",
       "1  First strike (This creature deals combat damag...   \n",
       "2  Flying\\nWhen [CARDNAME] enters the battlefield...   \n",
       "3  Flying\\nWhen [CARDNAME] enters the battlefield...   \n",
       "6  Whenever a creature enters the battlefield und...   \n",
       "\n",
       "                                              prompt  \n",
       "0  This is a W, Creature — Human Cleric magic car...  \n",
       "1  This is a W, Creature — Human Cleric magic car...  \n",
       "2  This is a W, Creature — Angel magic card with ...  \n",
       "3  This is a W, Creature — Angel magic card with ...  \n",
       "6  This is a W, Enchantment magic card with manac...  "
      ]
     },
     "execution_count": 181,
     "metadata": {},
     "output_type": "execute_result"
    }
   ],
   "source": [
    "etb_prompts.head()"
   ]
  },
  {
   "cell_type": "code",
   "execution_count": 182,
   "metadata": {},
   "outputs": [
    {
     "data": {
      "text/html": [
       "<div>\n",
       "<style scoped>\n",
       "    .dataframe tbody tr th:only-of-type {\n",
       "        vertical-align: middle;\n",
       "    }\n",
       "\n",
       "    .dataframe tbody tr th {\n",
       "        vertical-align: top;\n",
       "    }\n",
       "\n",
       "    .dataframe thead th {\n",
       "        text-align: right;\n",
       "    }\n",
       "</style>\n",
       "<table border=\"1\" class=\"dataframe\">\n",
       "  <thead>\n",
       "    <tr style=\"text-align: right;\">\n",
       "      <th></th>\n",
       "      <th>Unnamed: 0</th>\n",
       "      <th>generated_text</th>\n",
       "      <th>random real cards</th>\n",
       "    </tr>\n",
       "  </thead>\n",
       "  <tbody>\n",
       "    <tr>\n",
       "      <th>0</th>\n",
       "      <td>0</td>\n",
       "      <td>When [CARDNAME] enters the battlefield, it dea...</td>\n",
       "      <td>As [CARDNAME] enters the battlefield, choose a...</td>\n",
       "    </tr>\n",
       "    <tr>\n",
       "      <th>1</th>\n",
       "      <td>1</td>\n",
       "      <td>When [CARDNAME] enters the battlefield, you ma...</td>\n",
       "      <td>When [CARDNAME] enters the battlefield, exile ...</td>\n",
       "    </tr>\n",
       "    <tr>\n",
       "      <th>2</th>\n",
       "      <td>2</td>\n",
       "      <td>When [CARDNAME] enters the battlefield, exile ...</td>\n",
       "      <td>Improvise (Your artifacts can help cast this s...</td>\n",
       "    </tr>\n",
       "    <tr>\n",
       "      <th>3</th>\n",
       "      <td>3</td>\n",
       "      <td>When [CARDNAME] enters the battlefield, it dea...</td>\n",
       "      <td>[CARDNAME] enters the battlefield tapped.\\n{T}...</td>\n",
       "    </tr>\n",
       "    <tr>\n",
       "      <th>4</th>\n",
       "      <td>4</td>\n",
       "      <td>When [CARDNAME] enters the battlefield, it dea...</td>\n",
       "      <td>Prowess (Whenever you cast a noncreature spell...</td>\n",
       "    </tr>\n",
       "  </tbody>\n",
       "</table>\n",
       "</div>"
      ],
      "text/plain": [
       "   Unnamed: 0                                     generated_text  \\\n",
       "0           0  When [CARDNAME] enters the battlefield, it dea...   \n",
       "1           1  When [CARDNAME] enters the battlefield, you ma...   \n",
       "2           2  When [CARDNAME] enters the battlefield, exile ...   \n",
       "3           3  When [CARDNAME] enters the battlefield, it dea...   \n",
       "4           4  When [CARDNAME] enters the battlefield, it dea...   \n",
       "\n",
       "                                   random real cards  \n",
       "0  As [CARDNAME] enters the battlefield, choose a...  \n",
       "1  When [CARDNAME] enters the battlefield, exile ...  \n",
       "2  Improvise (Your artifacts can help cast this s...  \n",
       "3  [CARDNAME] enters the battlefield tapped.\\n{T}...  \n",
       "4  Prowess (Whenever you cast a noncreature spell...  "
      ]
     },
     "execution_count": 182,
     "metadata": {},
     "output_type": "execute_result"
    }
   ],
   "source": [
    "import random\n",
    "all_cards_df['random real cards'] = random.sample([x for x in etb_prompts['CARDNAME']], 100)\n",
    "all_cards_df.head()"
   ]
  },
  {
   "cell_type": "code",
   "execution_count": 183,
   "metadata": {},
   "outputs": [],
   "source": [
    "artifact_cards_df['random real cards'] = random.sample([x for x in etb_prompts[(etb_prompts['types'] == 'Artifact')]['CARDNAME']], 100)\n",
    "creature_cards_df['random real cards'] = random.sample([x for x in etb_prompts[(etb_prompts['types'] == 'Creature')]['CARDNAME']], 100)\n",
    "enchantment_cards_df['random real cards'] = random.sample([x for x in etb_prompts[(etb_prompts['types'] == 'Enchantment')]['CARDNAME']], 100)\n",
    "land_cards_df['random real cards'] = random.sample([x for x in relevant_types[(relevant_types['types'] == 'Land')]['prompt']], 100)\n",
    "spell_cards_df['random real cards'] = random.sample([x for x in relevant_types[(relevant_types['types'] == 'Instant') | (relevant_types['types'] == 'Sorcery') ]['CARDNAME']], 100)"
   ]
  },
  {
   "cell_type": "code",
   "execution_count": 184,
   "metadata": {},
   "outputs": [
    {
     "data": {
      "text/plain": [
       "'When [CARDNAME] enters the battlefield, exile it.\"]\\nThis is a nan, Artifact magic card with manacost {3}. This is its rules text: {2}, {T}: Exile target card from your graveyard. Draw a card at the beginning of the next turn\\'s upkeep.\\nThis is a nan, Artifact magic card with manacost {1}. This is its rules text: {1}, {T}: Target creature gets +1/-1 until end of turn.\\nThis is a nan, Artifact'"
      ]
     },
     "execution_count": 184,
     "metadata": {},
     "output_type": "execute_result"
    }
   ],
   "source": [
    "artifact_cards_df['generated_text'][0]"
   ]
  },
  {
   "cell_type": "code",
   "execution_count": 185,
   "metadata": {},
   "outputs": [
    {
     "data": {
      "text/plain": [
       "'{T}.)\\nThis is a nan, Land magic card with manacost nan. This is its rules text: ({T}: Add {W}.)\\nThis is a nan, Land magic card with manacost nan. This is its rules text: ({T}: Add {U}.)\\nThis is a nan, Land magic card with manacost nan. This is its rules text: ({T}: Add {U}.)\\nThis is a nan, Land magic card with manac'"
      ]
     },
     "execution_count": 185,
     "metadata": {},
     "output_type": "execute_result"
    }
   ],
   "source": [
    "land_cards_df['generated_text'][0]"
   ]
  },
  {
   "cell_type": "code",
   "execution_count": 186,
   "metadata": {},
   "outputs": [],
   "source": [
    "#splitting up the gpt prompts\n",
    "all_cards_df['generated_text'] = [x.split('\\n')[0] for x in all_cards_df['generated_text']]\n",
    "artifact_cards_df['generated_text'] = [x.split('\\n')[0] for x in artifact_cards_df['generated_text']]\n",
    "creature_cards_df['generated_text'] = [x.split('\\n')[0] for x in creature_cards_df['generated_text']]\n",
    "enchantment_cards_df['generated_text'] = [x.split('\\n')[0] for x in enchantment_cards_df['generated_text']]\n",
    "land_cards_df['generated_text'] = [x.split('\\n')[1] for x in land_cards_df['generated_text']]\n",
    "spell_cards_df['generated_text'] = [x.split('\\n')[0] for x in spell_cards_df['generated_text']]"
   ]
  },
  {
   "cell_type": "code",
   "execution_count": 187,
   "metadata": {},
   "outputs": [
    {
     "data": {
      "text/plain": [
       "'When [CARDNAME] enters the battlefield, exile it.\"]'"
      ]
     },
     "execution_count": 187,
     "metadata": {},
     "output_type": "execute_result"
    }
   ],
   "source": [
    "artifact_cards_df['generated_text'][0]"
   ]
  },
  {
   "cell_type": "code",
   "execution_count": 188,
   "metadata": {},
   "outputs": [
    {
     "data": {
      "text/plain": [
       "200"
      ]
     },
     "execution_count": 188,
     "metadata": {},
     "output_type": "execute_result"
    }
   ],
   "source": [
    "#setting up and stacking all columns for 1 dataframe \n",
    "class_column = [0 for x in range (0,100)]\n",
    "class_column.extend([1 for x in range(0,100)])\n",
    "len(class_column)"
   ]
  },
  {
   "cell_type": "code",
   "execution_count": 189,
   "metadata": {},
   "outputs": [
    {
     "data": {
      "text/plain": [
       "200"
      ]
     },
     "execution_count": 189,
     "metadata": {},
     "output_type": "execute_result"
    }
   ],
   "source": [
    "all_cards_column = [x for x in all_cards_df['generated_text']]\n",
    "all_cards_column.extend(x for x in all_cards_df['random real cards'])\n",
    "len(all_cards_column)"
   ]
  },
  {
   "cell_type": "code",
   "execution_count": 190,
   "metadata": {},
   "outputs": [
    {
     "data": {
      "text/plain": [
       "200"
      ]
     },
     "execution_count": 190,
     "metadata": {},
     "output_type": "execute_result"
    }
   ],
   "source": [
    "creature_cards_column = [x for x in creature_cards_df['generated_text']]\n",
    "creature_cards_column.extend(x for x in creature_cards_df['random real cards'])\n",
    "len(creature_cards_column)"
   ]
  },
  {
   "cell_type": "code",
   "execution_count": 191,
   "metadata": {},
   "outputs": [
    {
     "data": {
      "text/plain": [
       "200"
      ]
     },
     "execution_count": 191,
     "metadata": {},
     "output_type": "execute_result"
    }
   ],
   "source": [
    "artifact_cards_column = [x for x in artifact_cards_df['generated_text']]\n",
    "artifact_cards_column.extend(x for x in artifact_cards_df['random real cards'])\n",
    "len(artifact_cards_column)"
   ]
  },
  {
   "cell_type": "code",
   "execution_count": 192,
   "metadata": {},
   "outputs": [
    {
     "data": {
      "text/plain": [
       "200"
      ]
     },
     "execution_count": 192,
     "metadata": {},
     "output_type": "execute_result"
    }
   ],
   "source": [
    "enchantment_cards_column = [x for x in enchantment_cards_df['generated_text']]\n",
    "enchantment_cards_column.extend(x for x in enchantment_cards_df['random real cards'])\n",
    "len(enchantment_cards_column)"
   ]
  },
  {
   "cell_type": "code",
   "execution_count": 193,
   "metadata": {},
   "outputs": [
    {
     "data": {
      "text/plain": [
       "200"
      ]
     },
     "execution_count": 193,
     "metadata": {},
     "output_type": "execute_result"
    }
   ],
   "source": [
    "lands_cards_column = [x for x in land_cards_df['generated_text']]\n",
    "lands_cards_column.extend(x for x in land_cards_df['random real cards'])\n",
    "len(lands_cards_column)"
   ]
  },
  {
   "cell_type": "code",
   "execution_count": 194,
   "metadata": {},
   "outputs": [
    {
     "data": {
      "text/plain": [
       "200"
      ]
     },
     "execution_count": 194,
     "metadata": {},
     "output_type": "execute_result"
    }
   ],
   "source": [
    "spells_cards_column = [x for x in spell_cards_df['generated_text']]\n",
    "spells_cards_column.extend(x for x in spell_cards_df['random real cards'])\n",
    "len(spells_cards_column)"
   ]
  },
  {
   "cell_type": "code",
   "execution_count": 195,
   "metadata": {},
   "outputs": [
    {
     "data": {
      "text/html": [
       "<div>\n",
       "<style scoped>\n",
       "    .dataframe tbody tr th:only-of-type {\n",
       "        vertical-align: middle;\n",
       "    }\n",
       "\n",
       "    .dataframe tbody tr th {\n",
       "        vertical-align: top;\n",
       "    }\n",
       "\n",
       "    .dataframe thead th {\n",
       "        text-align: right;\n",
       "    }\n",
       "</style>\n",
       "<table border=\"1\" class=\"dataframe\">\n",
       "  <thead>\n",
       "    <tr style=\"text-align: right;\">\n",
       "      <th></th>\n",
       "      <th>All cards</th>\n",
       "      <th>Artifacts</th>\n",
       "      <th>Creatures</th>\n",
       "      <th>enchantments</th>\n",
       "      <th>lands</th>\n",
       "      <th>spells</th>\n",
       "      <th>class [0(gpt), 1(real)]</th>\n",
       "    </tr>\n",
       "  </thead>\n",
       "  <tbody>\n",
       "    <tr>\n",
       "      <th>0</th>\n",
       "      <td>When [CARDNAME] enters the battlefield, it dea...</td>\n",
       "      <td>When [CARDNAME] enters the battlefield, exile ...</td>\n",
       "      <td>When [CARDNAME] enters the battlefield, it dea...</td>\n",
       "      <td>When [CARDNAME] enters the battlefield, you be...</td>\n",
       "      <td>This is a nan, Land magic card with manacost n...</td>\n",
       "      <td>This is a R, Sorcery magic card with manacost ...</td>\n",
       "      <td>0</td>\n",
       "    </tr>\n",
       "    <tr>\n",
       "      <th>1</th>\n",
       "      <td>When [CARDNAME] enters the battlefield, you ma...</td>\n",
       "      <td>When [CARDNAME] enters the battlefield, draw a...</td>\n",
       "      <td>When [CARDNAME] enters the battlefield, exile ...</td>\n",
       "      <td>When [CARDNAME] enters the battlefield, you ma...</td>\n",
       "      <td>This is a nan, Land magic card with manacost n...</td>\n",
       "      <td>A man who has been shot in the back by a man w...</td>\n",
       "      <td>0</td>\n",
       "    </tr>\n",
       "    <tr>\n",
       "      <th>2</th>\n",
       "      <td>When [CARDNAME] enters the battlefield, exile ...</td>\n",
       "      <td>When [CARDNAME] enters the battlefield, exile ...</td>\n",
       "      <td>When [CARDNAME] enters the battlefield, it dea...</td>\n",
       "      <td>When [CARDNAME] enters the battlefield, exile ...</td>\n",
       "      <td>This is a nan, Land magic card with manacost n...</td>\n",
       "      <td>TIP: If you've been playing Magic for a while,...</td>\n",
       "      <td>0</td>\n",
       "    </tr>\n",
       "    <tr>\n",
       "      <th>3</th>\n",
       "      <td>When [CARDNAME] enters the battlefield, it dea...</td>\n",
       "      <td>When [CARDNAME] enters the battlefield, draw t...</td>\n",
       "      <td>When [CARDNAME] enters the battlefield, exile ...</td>\n",
       "      <td>When [CARDNAME] enters the battlefield, exile ...</td>\n",
       "      <td>This is a nan, Land magic card with manacost n...</td>\n",
       "      <td>This is a R, Sorcery magic card with manacost ...</td>\n",
       "      <td>0</td>\n",
       "    </tr>\n",
       "    <tr>\n",
       "      <th>4</th>\n",
       "      <td>When [CARDNAME] enters the battlefield, it dea...</td>\n",
       "      <td>When [CARDNAME] enters the battlefield, draw t...</td>\n",
       "      <td>When [CARDNAME] enters the battlefield, exile it.</td>\n",
       "      <td>When [CARDNAME] enters the battlefield, it dea...</td>\n",
       "      <td>This is a nan, Land magic card with manacost n...</td>\n",
       "      <td>This is a R, Sorcery magic card with manacost ...</td>\n",
       "      <td>0</td>\n",
       "    </tr>\n",
       "  </tbody>\n",
       "</table>\n",
       "</div>"
      ],
      "text/plain": [
       "                                           All cards  \\\n",
       "0  When [CARDNAME] enters the battlefield, it dea...   \n",
       "1  When [CARDNAME] enters the battlefield, you ma...   \n",
       "2  When [CARDNAME] enters the battlefield, exile ...   \n",
       "3  When [CARDNAME] enters the battlefield, it dea...   \n",
       "4  When [CARDNAME] enters the battlefield, it dea...   \n",
       "\n",
       "                                           Artifacts  \\\n",
       "0  When [CARDNAME] enters the battlefield, exile ...   \n",
       "1  When [CARDNAME] enters the battlefield, draw a...   \n",
       "2  When [CARDNAME] enters the battlefield, exile ...   \n",
       "3  When [CARDNAME] enters the battlefield, draw t...   \n",
       "4  When [CARDNAME] enters the battlefield, draw t...   \n",
       "\n",
       "                                           Creatures  \\\n",
       "0  When [CARDNAME] enters the battlefield, it dea...   \n",
       "1  When [CARDNAME] enters the battlefield, exile ...   \n",
       "2  When [CARDNAME] enters the battlefield, it dea...   \n",
       "3  When [CARDNAME] enters the battlefield, exile ...   \n",
       "4  When [CARDNAME] enters the battlefield, exile it.   \n",
       "\n",
       "                                        enchantments  \\\n",
       "0  When [CARDNAME] enters the battlefield, you be...   \n",
       "1  When [CARDNAME] enters the battlefield, you ma...   \n",
       "2  When [CARDNAME] enters the battlefield, exile ...   \n",
       "3  When [CARDNAME] enters the battlefield, exile ...   \n",
       "4  When [CARDNAME] enters the battlefield, it dea...   \n",
       "\n",
       "                                               lands  \\\n",
       "0  This is a nan, Land magic card with manacost n...   \n",
       "1  This is a nan, Land magic card with manacost n...   \n",
       "2  This is a nan, Land magic card with manacost n...   \n",
       "3  This is a nan, Land magic card with manacost n...   \n",
       "4  This is a nan, Land magic card with manacost n...   \n",
       "\n",
       "                                              spells  class [0(gpt), 1(real)]  \n",
       "0  This is a R, Sorcery magic card with manacost ...                        0  \n",
       "1  A man who has been shot in the back by a man w...                        0  \n",
       "2  TIP: If you've been playing Magic for a while,...                        0  \n",
       "3  This is a R, Sorcery magic card with manacost ...                        0  \n",
       "4  This is a R, Sorcery magic card with manacost ...                        0  "
      ]
     },
     "execution_count": 195,
     "metadata": {},
     "output_type": "execute_result"
    }
   ],
   "source": [
    "nlp_df = pd.DataFrame({'All cards' : all_cards_column, 'Artifacts' : artifact_cards_column, 'Creatures' : creature_cards_column, 'enchantments' : enchantment_cards_column, 'lands' : lands_cards_column, 'spells' : spells_cards_column , 'class [0(gpt), 1(real)]' : class_column})\n",
    "nlp_df.head()"
   ]
  },
  {
   "cell_type": "code",
   "execution_count": null,
   "metadata": {},
   "outputs": [],
   "source": []
  },
  {
   "cell_type": "markdown",
   "metadata": {},
   "source": []
  },
  {
   "cell_type": "markdown",
   "metadata": {},
   "source": [
    "Now I'm just going to to some basic countvectorizor classification, the baseline is .5 and we actually want our models to be Close to that since if our text generator is good, the model shouldn't be able to tell the difference between a real card and a fake card."
   ]
  },
  {
   "cell_type": "code",
   "execution_count": 203,
   "metadata": {},
   "outputs": [],
   "source": [
    "from sklearn.pipeline import Pipeline\n",
    "from sklearn.model_selection import train_test_split, GridSearchCV\n",
    "from sklearn.feature_extraction.text import CountVectorizer, TfidfVectorizer\n",
    "from sklearn.linear_model import LogisticRegression\n",
    "from nltk.corpus import stopwords \n",
    "from sklearn.model_selection import cross_val_score\n"
   ]
  },
  {
   "cell_type": "code",
   "execution_count": 198,
   "metadata": {},
   "outputs": [],
   "source": [
    "X = nlp_df['All cards']\n",
    "X1 = nlp_df['Artifacts']\n",
    "X2 = nlp_df['Creatures']\n",
    "X3 = nlp_df['enchantments']\n",
    "X4 = nlp_df['lands']\n",
    "X5 = nlp_df['spells']\n",
    "y = nlp_df['class [0(gpt), 1(real)]']\n"
   ]
  },
  {
   "cell_type": "code",
   "execution_count": 199,
   "metadata": {},
   "outputs": [],
   "source": [
    "X_train, X_test, y_train, y_test = train_test_split(X,y,test_size=0.2,stratify=y,random_state=42)\n",
    "X1_train, X1_test, y1_train, y1_test = train_test_split(X1,y,test_size=0.2,stratify=y,random_state=42)\n",
    "X2_train, X2_test, y2_train, y2_test = train_test_split(X2,y,test_size=0.2,stratify=y,random_state=42)\n",
    "X3_train, X3_test, y3_train, y3_test = train_test_split(X3,y,test_size=0.2,stratify=y,random_state=42)\n",
    "X4_train, X4_test, y4_train, y4_test = train_test_split(X4,y,test_size=0.2,stratify=y,random_state=42)\n",
    "X5_train, X5_test, y5_train, y5_test = train_test_split(X5,y,test_size=0.2,stratify=y,random_state=42)"
   ]
  },
  {
   "cell_type": "code",
   "execution_count": 201,
   "metadata": {},
   "outputs": [],
   "source": [
    "pipe = Pipeline([\n",
    "    ('cvec', CountVectorizer()),\n",
    "    ('lr', LogisticRegression(max_iter = 10000))\n",
    "])\n",
    "\n",
    "nlkt_stop = stopwords.words('english')\n",
    "                            \n",
    "pipe_params = {\n",
    "'cvec__max_features' : [100,500, 1000],\n",
    "'cvec__ngram_range' : [(1,1), (1,2)],\n",
    "'cvec__stop_words' : ['english', None, nlkt_stop]\n",
    "}\n",
    "\n",
    "gs = GridSearchCV(pipe, pipe_params, cv = 5)\n",
    "gs1 = GridSearchCV(pipe, pipe_params, cv = 5)\n",
    "gs2 = GridSearchCV(pipe, pipe_params, cv = 5)\n",
    "gs3 = GridSearchCV(pipe, pipe_params, cv = 5)\n",
    "gs4 = GridSearchCV(pipe, pipe_params, cv = 5)\n",
    "gs5 = GridSearchCV(pipe, pipe_params, cv = 5)"
   ]
  },
  {
   "cell_type": "code",
   "execution_count": 202,
   "metadata": {},
   "outputs": [
    {
     "data": {
      "text/html": [
       "<style>#sk-container-id-1 {color: black;}#sk-container-id-1 pre{padding: 0;}#sk-container-id-1 div.sk-toggleable {background-color: white;}#sk-container-id-1 label.sk-toggleable__label {cursor: pointer;display: block;width: 100%;margin-bottom: 0;padding: 0.3em;box-sizing: border-box;text-align: center;}#sk-container-id-1 label.sk-toggleable__label-arrow:before {content: \"▸\";float: left;margin-right: 0.25em;color: #696969;}#sk-container-id-1 label.sk-toggleable__label-arrow:hover:before {color: black;}#sk-container-id-1 div.sk-estimator:hover label.sk-toggleable__label-arrow:before {color: black;}#sk-container-id-1 div.sk-toggleable__content {max-height: 0;max-width: 0;overflow: hidden;text-align: left;background-color: #f0f8ff;}#sk-container-id-1 div.sk-toggleable__content pre {margin: 0.2em;color: black;border-radius: 0.25em;background-color: #f0f8ff;}#sk-container-id-1 input.sk-toggleable__control:checked~div.sk-toggleable__content {max-height: 200px;max-width: 100%;overflow: auto;}#sk-container-id-1 input.sk-toggleable__control:checked~label.sk-toggleable__label-arrow:before {content: \"▾\";}#sk-container-id-1 div.sk-estimator input.sk-toggleable__control:checked~label.sk-toggleable__label {background-color: #d4ebff;}#sk-container-id-1 div.sk-label input.sk-toggleable__control:checked~label.sk-toggleable__label {background-color: #d4ebff;}#sk-container-id-1 input.sk-hidden--visually {border: 0;clip: rect(1px 1px 1px 1px);clip: rect(1px, 1px, 1px, 1px);height: 1px;margin: -1px;overflow: hidden;padding: 0;position: absolute;width: 1px;}#sk-container-id-1 div.sk-estimator {font-family: monospace;background-color: #f0f8ff;border: 1px dotted black;border-radius: 0.25em;box-sizing: border-box;margin-bottom: 0.5em;}#sk-container-id-1 div.sk-estimator:hover {background-color: #d4ebff;}#sk-container-id-1 div.sk-parallel-item::after {content: \"\";width: 100%;border-bottom: 1px solid gray;flex-grow: 1;}#sk-container-id-1 div.sk-label:hover label.sk-toggleable__label {background-color: #d4ebff;}#sk-container-id-1 div.sk-serial::before {content: \"\";position: absolute;border-left: 1px solid gray;box-sizing: border-box;top: 0;bottom: 0;left: 50%;z-index: 0;}#sk-container-id-1 div.sk-serial {display: flex;flex-direction: column;align-items: center;background-color: white;padding-right: 0.2em;padding-left: 0.2em;position: relative;}#sk-container-id-1 div.sk-item {position: relative;z-index: 1;}#sk-container-id-1 div.sk-parallel {display: flex;align-items: stretch;justify-content: center;background-color: white;position: relative;}#sk-container-id-1 div.sk-item::before, #sk-container-id-1 div.sk-parallel-item::before {content: \"\";position: absolute;border-left: 1px solid gray;box-sizing: border-box;top: 0;bottom: 0;left: 50%;z-index: -1;}#sk-container-id-1 div.sk-parallel-item {display: flex;flex-direction: column;z-index: 1;position: relative;background-color: white;}#sk-container-id-1 div.sk-parallel-item:first-child::after {align-self: flex-end;width: 50%;}#sk-container-id-1 div.sk-parallel-item:last-child::after {align-self: flex-start;width: 50%;}#sk-container-id-1 div.sk-parallel-item:only-child::after {width: 0;}#sk-container-id-1 div.sk-dashed-wrapped {border: 1px dashed gray;margin: 0 0.4em 0.5em 0.4em;box-sizing: border-box;padding-bottom: 0.4em;background-color: white;}#sk-container-id-1 div.sk-label label {font-family: monospace;font-weight: bold;display: inline-block;line-height: 1.2em;}#sk-container-id-1 div.sk-label-container {text-align: center;}#sk-container-id-1 div.sk-container {/* jupyter's `normalize.less` sets `[hidden] { display: none; }` but bootstrap.min.css set `[hidden] { display: none !important; }` so we also need the `!important` here to be able to override the default hidden behavior on the sphinx rendered scikit-learn.org. See: https://github.com/scikit-learn/scikit-learn/issues/21755 */display: inline-block !important;position: relative;}#sk-container-id-1 div.sk-text-repr-fallback {display: none;}</style><div id=\"sk-container-id-1\" class=\"sk-top-container\"><div class=\"sk-text-repr-fallback\"><pre>GridSearchCV(cv=5,\n",
       "             estimator=Pipeline(steps=[(&#x27;cvec&#x27;, CountVectorizer()),\n",
       "                                       (&#x27;lr&#x27;,\n",
       "                                        LogisticRegression(max_iter=10000))]),\n",
       "             param_grid={&#x27;cvec__max_features&#x27;: [100, 500, 1000],\n",
       "                         &#x27;cvec__ngram_range&#x27;: [(1, 1), (1, 2)],\n",
       "                         &#x27;cvec__stop_words&#x27;: [&#x27;english&#x27;, None,\n",
       "                                              [&#x27;i&#x27;, &#x27;me&#x27;, &#x27;my&#x27;, &#x27;myself&#x27;, &#x27;we&#x27;,\n",
       "                                               &#x27;our&#x27;, &#x27;ours&#x27;, &#x27;ourselves&#x27;,\n",
       "                                               &#x27;you&#x27;, &quot;you&#x27;re&quot;, &quot;you&#x27;ve&quot;,\n",
       "                                               &quot;you&#x27;ll&quot;, &quot;you&#x27;d&quot;, &#x27;your&#x27;,\n",
       "                                               &#x27;yours&#x27;, &#x27;yourself&#x27;,\n",
       "                                               &#x27;yourselves&#x27;, &#x27;he&#x27;, &#x27;him&#x27;, &#x27;his&#x27;,\n",
       "                                               &#x27;himself&#x27;, &#x27;she&#x27;, &quot;she&#x27;s&quot;, &#x27;her&#x27;,\n",
       "                                               &#x27;hers&#x27;, &#x27;herself&#x27;, &#x27;it&#x27;, &quot;it&#x27;s&quot;,\n",
       "                                               &#x27;its&#x27;, &#x27;itself&#x27;, ...]]})</pre><b>In a Jupyter environment, please rerun this cell to show the HTML representation or trust the notebook. <br />On GitHub, the HTML representation is unable to render, please try loading this page with nbviewer.org.</b></div><div class=\"sk-container\" hidden><div class=\"sk-item sk-dashed-wrapped\"><div class=\"sk-label-container\"><div class=\"sk-label sk-toggleable\"><input class=\"sk-toggleable__control sk-hidden--visually\" id=\"sk-estimator-id-1\" type=\"checkbox\" ><label for=\"sk-estimator-id-1\" class=\"sk-toggleable__label sk-toggleable__label-arrow\">GridSearchCV</label><div class=\"sk-toggleable__content\"><pre>GridSearchCV(cv=5,\n",
       "             estimator=Pipeline(steps=[(&#x27;cvec&#x27;, CountVectorizer()),\n",
       "                                       (&#x27;lr&#x27;,\n",
       "                                        LogisticRegression(max_iter=10000))]),\n",
       "             param_grid={&#x27;cvec__max_features&#x27;: [100, 500, 1000],\n",
       "                         &#x27;cvec__ngram_range&#x27;: [(1, 1), (1, 2)],\n",
       "                         &#x27;cvec__stop_words&#x27;: [&#x27;english&#x27;, None,\n",
       "                                              [&#x27;i&#x27;, &#x27;me&#x27;, &#x27;my&#x27;, &#x27;myself&#x27;, &#x27;we&#x27;,\n",
       "                                               &#x27;our&#x27;, &#x27;ours&#x27;, &#x27;ourselves&#x27;,\n",
       "                                               &#x27;you&#x27;, &quot;you&#x27;re&quot;, &quot;you&#x27;ve&quot;,\n",
       "                                               &quot;you&#x27;ll&quot;, &quot;you&#x27;d&quot;, &#x27;your&#x27;,\n",
       "                                               &#x27;yours&#x27;, &#x27;yourself&#x27;,\n",
       "                                               &#x27;yourselves&#x27;, &#x27;he&#x27;, &#x27;him&#x27;, &#x27;his&#x27;,\n",
       "                                               &#x27;himself&#x27;, &#x27;she&#x27;, &quot;she&#x27;s&quot;, &#x27;her&#x27;,\n",
       "                                               &#x27;hers&#x27;, &#x27;herself&#x27;, &#x27;it&#x27;, &quot;it&#x27;s&quot;,\n",
       "                                               &#x27;its&#x27;, &#x27;itself&#x27;, ...]]})</pre></div></div></div><div class=\"sk-parallel\"><div class=\"sk-parallel-item\"><div class=\"sk-item\"><div class=\"sk-label-container\"><div class=\"sk-label sk-toggleable\"><input class=\"sk-toggleable__control sk-hidden--visually\" id=\"sk-estimator-id-2\" type=\"checkbox\" ><label for=\"sk-estimator-id-2\" class=\"sk-toggleable__label sk-toggleable__label-arrow\">estimator: Pipeline</label><div class=\"sk-toggleable__content\"><pre>Pipeline(steps=[(&#x27;cvec&#x27;, CountVectorizer()),\n",
       "                (&#x27;lr&#x27;, LogisticRegression(max_iter=10000))])</pre></div></div></div><div class=\"sk-serial\"><div class=\"sk-item\"><div class=\"sk-serial\"><div class=\"sk-item\"><div class=\"sk-estimator sk-toggleable\"><input class=\"sk-toggleable__control sk-hidden--visually\" id=\"sk-estimator-id-3\" type=\"checkbox\" ><label for=\"sk-estimator-id-3\" class=\"sk-toggleable__label sk-toggleable__label-arrow\">CountVectorizer</label><div class=\"sk-toggleable__content\"><pre>CountVectorizer()</pre></div></div></div><div class=\"sk-item\"><div class=\"sk-estimator sk-toggleable\"><input class=\"sk-toggleable__control sk-hidden--visually\" id=\"sk-estimator-id-4\" type=\"checkbox\" ><label for=\"sk-estimator-id-4\" class=\"sk-toggleable__label sk-toggleable__label-arrow\">LogisticRegression</label><div class=\"sk-toggleable__content\"><pre>LogisticRegression(max_iter=10000)</pre></div></div></div></div></div></div></div></div></div></div></div></div>"
      ],
      "text/plain": [
       "GridSearchCV(cv=5,\n",
       "             estimator=Pipeline(steps=[('cvec', CountVectorizer()),\n",
       "                                       ('lr',\n",
       "                                        LogisticRegression(max_iter=10000))]),\n",
       "             param_grid={'cvec__max_features': [100, 500, 1000],\n",
       "                         'cvec__ngram_range': [(1, 1), (1, 2)],\n",
       "                         'cvec__stop_words': ['english', None,\n",
       "                                              ['i', 'me', 'my', 'myself', 'we',\n",
       "                                               'our', 'ours', 'ourselves',\n",
       "                                               'you', \"you're\", \"you've\",\n",
       "                                               \"you'll\", \"you'd\", 'your',\n",
       "                                               'yours', 'yourself',\n",
       "                                               'yourselves', 'he', 'him', 'his',\n",
       "                                               'himself', 'she', \"she's\", 'her',\n",
       "                                               'hers', 'herself', 'it', \"it's\",\n",
       "                                               'its', 'itself', ...]]})"
      ]
     },
     "execution_count": 202,
     "metadata": {},
     "output_type": "execute_result"
    }
   ],
   "source": [
    "gs.fit(X_train,y_train)\n",
    "gs1.fit(X1_train,y1_train)\n",
    "gs2.fit(X2_train,y2_train)\n",
    "gs3.fit(X3_train,y3_train)\n",
    "gs4.fit(X4_train,y4_train)\n",
    "gs5.fit(X5_train,y5_train)\n"
   ]
  },
  {
   "cell_type": "code",
   "execution_count": 204,
   "metadata": {},
   "outputs": [
    {
     "name": "stdout",
     "output_type": "stream",
     "text": [
      " all_cards  0.85625  artifacts  0.9  creatures  0.9125  enchantments  0.89375 lands  0.69375  spells  0.9125\n"
     ]
    }
   ],
   "source": [
    "print(\" all_cards \", gs.best_score_ , \" artifacts \", gs1.best_score_, ' creatures ', gs2.best_score_, ' enchantments ', gs3.best_score_, 'lands ', gs4.best_score_, ' spells ', gs5.best_score_)"
   ]
  },
  {
   "cell_type": "code",
   "execution_count": 205,
   "metadata": {},
   "outputs": [
    {
     "name": "stdout",
     "output_type": "stream",
     "text": [
      " all_cards  0.825  artifacts  0.925  creatures  0.775  enchantments  0.85 lands  0.75  spells  0.875\n"
     ]
    }
   ],
   "source": [
    "print(\" all_cards \", gs.score(X_test,y_test) , \" artifacts \", gs1.score(X1_test,y1_test) , ' creatures ', gs.score(X2_test,y2_test) , ' enchantments ', gs3.score(X3_test,y3_test) , 'lands ', gs4.score(X4_test,y4_test) , ' spells ', gs5.score(X5_test,y5_test) )"
   ]
  },
  {
   "cell_type": "code",
   "execution_count": 220,
   "metadata": {},
   "outputs": [
    {
     "data": {
      "text/plain": [
       "Text(0.5, 1.0, 'gpt-2 fine tuning accuracy by card type')"
      ]
     },
     "execution_count": 220,
     "metadata": {},
     "output_type": "execute_result"
    },
    {
     "data": {
      "image/png": "[encoded data removed]",
      "text/plain": [
       "<Figure size 640x480 with 1 Axes>"
      ]
     },
     "metadata": {},
     "output_type": "display_data"
    }
   ],
   "source": [
    "plt.bar(['all_cards', 'artifacts', 'creatures', 'enchantments' ,'lands', 'spells'], [gs.score(X_test,y_test), gs1.score(X1_test,y1_test), gs2.score(X2_test,y2_test), gs3.score(X3_test,y3_test), gs4.score(X4_test,y4_test),gs5.score(X5_test,y5_test)])\n",
    "plt.xlabel(\"models\")\n",
    "plt.xticks(rotation = 30)\n",
    "plt.axhline(y=.5, color = 'r')\n",
    "\n",
    "plt.legend(['baseline', 'models'])\n",
    "plt.title('gpt-2 fine tuning accuracy by card type')"
   ]
  },
  {
   "cell_type": "markdown",
   "metadata": {},
   "source": [
    "## Interpretation ##\n",
    "Allrighty not so bad, for most of these the nlp is good enough to catch the bad prompt, however lands spells and all_cards are pretty about 2/5s and halfway to our 50% goal, lands had a specific different input prompt relative to the others {T}, so that's probably a good sign that different input helps. Remember we want our score to be as low as possible by changing the input side, leaving the actual classifier do the best it can to guess which are our fake cards."
   ]
  },
  {
   "cell_type": "markdown",
   "metadata": {},
   "source": []
  }
 ],
 "metadata": {
  "kernelspec": {
   "display_name": "base",
   "language": "python",
   "name": "python3"
  },
  "language_info": {
   "codemirror_mode": {
    "name": "ipython",
    "version": 3
   },
   "file_extension": ".py",
   "mimetype": "text/x-python",
   "name": "python",
   "nbconvert_exporter": "python",
   "pygments_lexer": "ipython3",
   "version": "3.11.4"
  }
 },
 "nbformat": 4,
 "nbformat_minor": 2
}
