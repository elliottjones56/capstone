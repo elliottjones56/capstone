{
  "cells": [
    {
      "cell_type": "code",
      "execution_count": 1,
      "metadata": {
        "colab": {
          "base_uri": "https://localhost:8080/"
        },
        "id": "tK4h88W4fiQC",
        "outputId": "b637c5bb-b5ba-428f-a129-872c42e063ad"
      },
      "outputs": [
        {
          "name": "stdout",
          "output_type": "stream",
          "text": [
            "Collecting gpt_2_simple\n",
            "  Downloading gpt_2_simple-0.8.1.tar.gz (26 kB)\n",
            "  Preparing metadata (setup.py) ... \u001b[?25l\u001b[?25hdone\n",
            "Requirement already satisfied: tensorflow>=2.5.1 in /usr/local/lib/python3.10/dist-packages (from gpt_2_simple) (2.14.0)\n",
            "Requirement already satisfied: regex in /usr/local/lib/python3.10/dist-packages (from gpt_2_simple) (2023.6.3)\n",
            "Requirement already satisfied: requests in /usr/local/lib/python3.10/dist-packages (from gpt_2_simple) (2.31.0)\n",
            "Requirement already satisfied: tqdm in /usr/local/lib/python3.10/dist-packages (from gpt_2_simple) (4.66.1)\n",
            "Requirement already satisfied: numpy in /usr/local/lib/python3.10/dist-packages (from gpt_2_simple) (1.23.5)\n",
            "Collecting toposort (from gpt_2_simple)\n",
            "  Downloading toposort-1.10-py3-none-any.whl (8.5 kB)\n",
            "Requirement already satisfied: absl-py>=1.0.0 in /usr/local/lib/python3.10/dist-packages (from tensorflow>=2.5.1->gpt_2_simple) (1.4.0)\n",
            "Requirement already satisfied: astunparse>=1.6.0 in /usr/local/lib/python3.10/dist-packages (from tensorflow>=2.5.1->gpt_2_simple) (1.6.3)\n",
            "Requirement already satisfied: flatbuffers>=23.5.26 in /usr/local/lib/python3.10/dist-packages (from tensorflow>=2.5.1->gpt_2_simple) (23.5.26)\n",
            "Requirement already satisfied: gast!=0.5.0,!=0.5.1,!=0.5.2,>=0.2.1 in /usr/local/lib/python3.10/dist-packages (from tensorflow>=2.5.1->gpt_2_simple) (0.5.4)\n",
            "Requirement already satisfied: google-pasta>=0.1.1 in /usr/local/lib/python3.10/dist-packages (from tensorflow>=2.5.1->gpt_2_simple) (0.2.0)\n",
            "Requirement already satisfied: h5py>=2.9.0 in /usr/local/lib/python3.10/dist-packages (from tensorflow>=2.5.1->gpt_2_simple) (3.9.0)\n",
            "Requirement already satisfied: libclang>=13.0.0 in /usr/local/lib/python3.10/dist-packages (from tensorflow>=2.5.1->gpt_2_simple) (16.0.6)\n",
            "Requirement already satisfied: ml-dtypes==0.2.0 in /usr/local/lib/python3.10/dist-packages (from tensorflow>=2.5.1->gpt_2_simple) (0.2.0)\n",
            "Requirement already satisfied: opt-einsum>=2.3.2 in /usr/local/lib/python3.10/dist-packages (from tensorflow>=2.5.1->gpt_2_simple) (3.3.0)\n",
            "Requirement already satisfied: packaging in /usr/local/lib/python3.10/dist-packages (from tensorflow>=2.5.1->gpt_2_simple) (23.2)\n",
            "Requirement already satisfied: protobuf!=4.21.0,!=4.21.1,!=4.21.2,!=4.21.3,!=4.21.4,!=4.21.5,<5.0.0dev,>=3.20.3 in /usr/local/lib/python3.10/dist-packages (from tensorflow>=2.5.1->gpt_2_simple) (3.20.3)\n",
            "Requirement already satisfied: setuptools in /usr/local/lib/python3.10/dist-packages (from tensorflow>=2.5.1->gpt_2_simple) (67.7.2)\n",
            "Requirement already satisfied: six>=1.12.0 in /usr/local/lib/python3.10/dist-packages (from tensorflow>=2.5.1->gpt_2_simple) (1.16.0)\n",
            "Requirement already satisfied: termcolor>=1.1.0 in /usr/local/lib/python3.10/dist-packages (from tensorflow>=2.5.1->gpt_2_simple) (2.3.0)\n",
            "Requirement already satisfied: typing-extensions>=3.6.6 in /usr/local/lib/python3.10/dist-packages (from tensorflow>=2.5.1->gpt_2_simple) (4.5.0)\n",
            "Requirement already satisfied: wrapt<1.15,>=1.11.0 in /usr/local/lib/python3.10/dist-packages (from tensorflow>=2.5.1->gpt_2_simple) (1.14.1)\n",
            "Requirement already satisfied: tensorflow-io-gcs-filesystem>=0.23.1 in /usr/local/lib/python3.10/dist-packages (from tensorflow>=2.5.1->gpt_2_simple) (0.34.0)\n",
            "Requirement already satisfied: grpcio<2.0,>=1.24.3 in /usr/local/lib/python3.10/dist-packages (from tensorflow>=2.5.1->gpt_2_simple) (1.59.0)\n",
            "Requirement already satisfied: tensorboard<2.15,>=2.14 in /usr/local/lib/python3.10/dist-packages (from tensorflow>=2.5.1->gpt_2_simple) (2.14.1)\n",
            "Requirement already satisfied: tensorflow-estimator<2.15,>=2.14.0 in /usr/local/lib/python3.10/dist-packages (from tensorflow>=2.5.1->gpt_2_simple) (2.14.0)\n",
            "Requirement already satisfied: keras<2.15,>=2.14.0 in /usr/local/lib/python3.10/dist-packages (from tensorflow>=2.5.1->gpt_2_simple) (2.14.0)\n",
            "Requirement already satisfied: charset-normalizer<4,>=2 in /usr/local/lib/python3.10/dist-packages (from requests->gpt_2_simple) (3.3.1)\n",
            "Requirement already satisfied: idna<4,>=2.5 in /usr/local/lib/python3.10/dist-packages (from requests->gpt_2_simple) (3.4)\n",
            "Requirement already satisfied: urllib3<3,>=1.21.1 in /usr/local/lib/python3.10/dist-packages (from requests->gpt_2_simple) (2.0.7)\n",
            "Requirement already satisfied: certifi>=2017.4.17 in /usr/local/lib/python3.10/dist-packages (from requests->gpt_2_simple) (2023.7.22)\n",
            "Requirement already satisfied: wheel<1.0,>=0.23.0 in /usr/local/lib/python3.10/dist-packages (from astunparse>=1.6.0->tensorflow>=2.5.1->gpt_2_simple) (0.41.2)\n",
            "Requirement already satisfied: google-auth<3,>=1.6.3 in /usr/local/lib/python3.10/dist-packages (from tensorboard<2.15,>=2.14->tensorflow>=2.5.1->gpt_2_simple) (2.17.3)\n",
            "Requirement already satisfied: google-auth-oauthlib<1.1,>=0.5 in /usr/local/lib/python3.10/dist-packages (from tensorboard<2.15,>=2.14->tensorflow>=2.5.1->gpt_2_simple) (1.0.0)\n",
            "Requirement already satisfied: markdown>=2.6.8 in /usr/local/lib/python3.10/dist-packages (from tensorboard<2.15,>=2.14->tensorflow>=2.5.1->gpt_2_simple) (3.5)\n",
            "Requirement already satisfied: tensorboard-data-server<0.8.0,>=0.7.0 in /usr/local/lib/python3.10/dist-packages (from tensorboard<2.15,>=2.14->tensorflow>=2.5.1->gpt_2_simple) (0.7.2)\n",
            "Requirement already satisfied: werkzeug>=1.0.1 in /usr/local/lib/python3.10/dist-packages (from tensorboard<2.15,>=2.14->tensorflow>=2.5.1->gpt_2_simple) (3.0.1)\n",
            "Requirement already satisfied: cachetools<6.0,>=2.0.0 in /usr/local/lib/python3.10/dist-packages (from google-auth<3,>=1.6.3->tensorboard<2.15,>=2.14->tensorflow>=2.5.1->gpt_2_simple) (5.3.2)\n",
            "Requirement already satisfied: pyasn1-modules>=0.2.1 in /usr/local/lib/python3.10/dist-packages (from google-auth<3,>=1.6.3->tensorboard<2.15,>=2.14->tensorflow>=2.5.1->gpt_2_simple) (0.3.0)\n",
            "Requirement already satisfied: rsa<5,>=3.1.4 in /usr/local/lib/python3.10/dist-packages (from google-auth<3,>=1.6.3->tensorboard<2.15,>=2.14->tensorflow>=2.5.1->gpt_2_simple) (4.9)\n",
            "Requirement already satisfied: requests-oauthlib>=0.7.0 in /usr/local/lib/python3.10/dist-packages (from google-auth-oauthlib<1.1,>=0.5->tensorboard<2.15,>=2.14->tensorflow>=2.5.1->gpt_2_simple) (1.3.1)\n",
            "Requirement already satisfied: MarkupSafe>=2.1.1 in /usr/local/lib/python3.10/dist-packages (from werkzeug>=1.0.1->tensorboard<2.15,>=2.14->tensorflow>=2.5.1->gpt_2_simple) (2.1.3)\n",
            "Requirement already satisfied: pyasn1<0.6.0,>=0.4.6 in /usr/local/lib/python3.10/dist-packages (from pyasn1-modules>=0.2.1->google-auth<3,>=1.6.3->tensorboard<2.15,>=2.14->tensorflow>=2.5.1->gpt_2_simple) (0.5.0)\n",
            "Requirement already satisfied: oauthlib>=3.0.0 in /usr/local/lib/python3.10/dist-packages (from requests-oauthlib>=0.7.0->google-auth-oauthlib<1.1,>=0.5->tensorboard<2.15,>=2.14->tensorflow>=2.5.1->gpt_2_simple) (3.2.2)\n",
            "Building wheels for collected packages: gpt_2_simple\n",
            "  Building wheel for gpt_2_simple (setup.py) ... \u001b[?25l\u001b[?25hdone\n",
            "  Created wheel for gpt_2_simple: filename=gpt_2_simple-0.8.1-py3-none-any.whl size=24557 sha256=16c7d33b739ec973dc34c2e7864213cb437255e13f4f668596d9c336efb9cc3a\n",
            "  Stored in directory: /root/.cache/pip/wheels/df/6a/fe/10d3223f78d1ac3e4c83bb4c5e2d28dfb1789c2fb4cc7ea8d0\n",
            "Successfully built gpt_2_simple\n",
            "Installing collected packages: toposort, gpt_2_simple\n",
            "Successfully installed gpt_2_simple-0.8.1 toposort-1.10\n"
          ]
        }
      ],
      "source": [
        "#this is the collab notebook that generates the checkpoints for initial modeling\n",
        "!pip install gpt_2_simple\n",
        "import gpt_2_simple as gpt2"
      ]
    },
    {
      "cell_type": "code",
      "execution_count": 2,
      "metadata": {
        "colab": {
          "base_uri": "https://localhost:8080/"
        },
        "id": "2V4qJunzkf4u",
        "outputId": "198a0e2e-1b5b-4887-c159-4f16d7366f4f"
      },
      "outputs": [
        {
          "name": "stderr",
          "output_type": "stream",
          "text": [
            "Fetching checkpoint: 1.05Mit [00:00, 4.22Git/s]                                                     \n",
            "Fetching encoder.json: 1.05Mit [00:00, 2.40Mit/s]\n",
            "Fetching hparams.json: 1.05Mit [00:00, 4.48Git/s]                                                   \n",
            "Fetching model.ckpt.data-00000-of-00001: 498Mit [00:15, 32.9Mit/s]                                  \n",
            "Fetching model.ckpt.index: 1.05Mit [00:00, 3.35Git/s]                                               \n",
            "Fetching model.ckpt.meta: 1.05Mit [00:00, 2.77Mit/s]\n",
            "Fetching vocab.bpe: 1.05Mit [00:00, 2.73Mit/s]\n"
          ]
        }
      ],
      "source": [
        "gpt2.download_gpt2(model_name=\"124M\")"
      ]
    },
    {
      "cell_type": "code",
      "execution_count": 3,
      "metadata": {
        "colab": {
          "base_uri": "https://localhost:8080/"
        },
        "id": "JKdTdtCKpQY0",
        "outputId": "326505e0-4910-4187-de27-355aaec39b29"
      },
      "outputs": [
        {
          "name": "stdout",
          "output_type": "stream",
          "text": [
            "Loading checkpoint models/124M/model.ckpt\n",
            "Loading dataset...\n"
          ]
        },
        {
          "name": "stderr",
          "output_type": "stream",
          "text": [
            "100%|██████████| 1/1 [00:02<00:00,  2.68s/it]\n"
          ]
        },
        {
          "name": "stdout",
          "output_type": "stream",
          "text": [
            "dataset has 804256 tokens\n",
            "Training...\n",
            "[100 | 235.79] loss=0.83 avg=0.83\n",
            "======== SAMPLE 1 ========\n",
            "n] can't be cast as the turn begins.\\nCycling}: Look at the top card of target player's library. You may put that card into exile from the top card of their library.\\n[CARDNAME] can't be an instant.\n",
            "You choose between two starting cards and an additional starting card. When this ability resolves, shuffle all cards face-down into their own library, then put all other cards chosen under any one of the previous cards into their detritus.\n",
            "Flying\\nWhenever [CARDNAME] is dealt damage, its power and toughness are each equal to the damage dealt to it, not less. Exile [CARDNAME].\n",
            "Flying (This creature can't be blocked except by creatures with flying or reach.)\\n{T}: Add {U}{E}{B}.\n",
            "Trample\\nWhen [CARDNAME] enters the battlefield, you lose 3 life.\n",
            "As an additional cost to cast this spell, [CARDNAME] may be attached to target creature you control. An opponent may attach one or more Equipment. When this spell is attached to a creature, that creature becomes a 1/1 creature with trample until end of turn.\n",
            "Flying, vigilance\\nWhenever [CARDNAME] deals combat damage to a player, those players may return target creature card from their graveyard to the battlefield.\n",
            "Enchant creature\\nAs an additional cost to cast this spell, [CARDNAME] becomes a land. (A creature without a mana source can't be enchanted.)\\nFlying, trample\\nWhen [CARDNAME] enters the battlefield, create that many Treasure tokens, where 0 is the number of creatures on the battlefield. Put those tokens into your hand and the rest on the bottom of your library in a random order.\n",
            "Destroy target artifact or creature, then discard half of that card.\n",
            "Choose one —\\n• Create a tapped 2/2 black Zombie creature token.\\n• Destroy target artifact or creature.\\n• Destroy target artifact or creature.\\n• Create two 1/1 white Zombie creature tokens with deathtouch.\\n• Until end of turn, each opponent discards a card.\\n• Copy target artifact or creature until end of turn.\n",
            "Destroy target artifact or prevent target creature or planeswalker. You gain control of target creature and gain control of target creature's controller until end of turn, where that creature or planeswalker is put to death.\n",
            "As an additional cost to cast this spell, create five Treasure tokens.\n",
            "{3}: You gain 1 life. Activate only if you control a Warrior and a Knight.\n",
            "When [CARDNAME] enters the battlefield, exile a nontoken creature you control.\\nWhenever another creature enters the battlefield, [CARDNAME] deals damage to that creature's controller equal to the number of [CARDNAME] tokens under your control.\n",
            "Create a tapped 2/1 black Zombie creature token.\\nWhen you sacrifice [CARDNAME], create a 1/1 black Zombie creature token with a red, black, or white \"As long as you control a Zombie this turn, you have no maximum hand size.\"\n",
            "[CARDNAME] can't be blocked.\\n[CARDNAME] deals 3 damage to each opponent.\n",
            "Trample\\nAt the beginning of combat on your turn, [CARDNAME] gains trample until end of turn. Until end of turn, it's a 2/2 creature with trample and haste.\n",
            "{T}: Add {C}{C} for each creature you control that's attacking an opponent without first activating a sorcery.\n",
            "Whenever another nontoken creature enters the battlefield, you gain 1 life.\n",
            "When [CARDNAME] enters the battlefield, return target permanent to its owner's hand.\n",
            "Create two 3/3 blue Bird creature tokens with flying.\\n[CARDNAME] deals 1 damage to each creature.\n",
            "When [CARDNAME] enters the battlefield, target opponent loses 1 life and you gain 1 life.\n",
            "{1}: You gain 1 life, draw a card, and you gain 1 life.\n",
            "When you draw a card, draw two cards.\n",
            "{1}: You gain 1 life.\\n{2}: Draw a card, then draw two cards.\\n{3}: Draw a card, then discard a card.\n",
            "Create X 1/1 black Wolf creature tokens.\\nCycling {1} ({1}, Discard this card: Draw a card.)\n",
            "Creatures your opponents control gain double strike until end of turn.\\nAt the beginning of your end step, add {C}{C} for each opponent the opponent lost this turn.\\n{1}{W}{W}: Add {C}{C}.\n",
            "At the beginning of your end step, you gain life equal to the life total from your graveyard.\n",
            "{1}, {T}, Sacrifice [CARDNAME]: Target opponent loses 5\n",
            "\n",
            "[200 | 481.58] loss=0.49 avg=0.66\n",
            "======== SAMPLE 1 ========\n",
            " then a time counter of up to one enters the battlefield.\n",
            "({T}: Add {W}.)\n",
            "When [CARDNAME] enters the battlefield, create a Treasure token. It's an artifact of the chosen type that's tapped and has \"At the beginning of your upkeep, you gain 1 life.\"\n",
            "Flash\\nWhen [CARDNAME] enters the battlefield, you may search your library for a Treasure token, reveal it, put it into your hand, then shuffle. (Do this before you draw or play.)\n",
            "[CARDNAME] enters the battlefield with three +1/+0 counters on it.\\n{T}: Add {U}{R}{G}.\n",
            "[CARDNAME] enters the battlefield with target instant or sorcery card in your graveyard.\\n{T}: Add {U}{G}{R}.\n",
            "Flash\\n{2}{B}: [CARDNAME] becomes a 0/0 Elemental until end of turn.\n",
            "Flash\\n{1}{C}: [CARDNAME] gains first strike until end of turn. After this main phase and after this main phase has passed, [CARDNAME] deals 3 damage divided as you choose among any number of targets.\\nWhenever [CARDNAME] deals combat damage to a player, choose up to two other targets for that damage. Then, create that many Treasure tokens from the Treasure you created above. For any number of other nontoken permanents, [CARDNAME] also enters the battlefield tapped.\n",
            "Flash\\n{T}: Add {R}.\n",
            "Flash\\nSacrifice a creature: [CARDNAME] gets +X/+0 until end of turn, where X is the sacrificed creature's toughness.\n",
            "Flash\\nWhen [CARDNAME] enters the battlefield, you may return target land card from your graveyard to your hand.\n",
            "{T}: Add {C}{C}{C}.\n",
            "Flash\\n{T}: Add {R}.\\nSplice onto Arcane (Cast this spell only before your next main phase: For each opponent, create a token copy that attacks this turn if able.\\nWhen that token leaves the battlefield, create a Treasure for each opponent other than this phase's starting player to pay the cost of.)\n",
            "Flash\\n{T}: Add {C}.\n",
            "Flash\\n{T}: Add {C}.\\nGraft 1 (This land enters the battlefield onto an ice sheet. The player who controls the island enters the battlefield.)\n",
            "Flash\\n{10}{R}, {T}: Target player draws X cards, where X is the amount of mana spent to cast this spell.\\nWhen you cycle [CARDNAME], you may search your library for a basic land card, put it onto the battlefield, then shuffle. (Do this before you draw or play.)\n",
            "Flash\\n{R}: [CARDNAME] deals 1 damage to any target.\\nWhenever another nontoken creature dies, put a +1/+1 counter on [CARDNAME].\n",
            "Equipped creature has double strike.\\n{T}: Add {B} and other basic land types.\\n{R}, {T}: Add {C}.\\n{R}: [CARDNAME] deals 1 damage to any target.\n",
            "Defender\\n{T}: Add {R}.\\n{T}: Add {G}.\\n{R}, {T}: [CARDNAME] deals 1 damage to any target.\n",
            "Defender\\n{T}: Add {R}.\\n{T}: Add {W}.\\n{W}, {T}: [CARDNAME] deals 1 damage to any target.\n",
            "{T}, {T}, Discard a card: Exile [CARDNAME]. Draw a card.\n",
            "{T}, {T}, Discard a card: Exile [CARDNAME]. Draw a card.\n",
            "{T}, {T}, Discard a card: Exile [CARDNAME]. Draw a card.\n",
            "{T}, {T}, Discard a card: Exile [CARDNAME]. Draw a card.\n",
            "{T}, {T}, Discard a card: Exile [CARDNAME]. Draw a card.\n",
            "{T}, {T}, Discard a card: Exile [CARDNAME]. Draw a card.\n",
            "{T}, {T}, Discard a card: Exile [CARDNAME]. Draw a card.\n",
            "{T}, {T}, Discard a card: Exile [CARDNAME]. Draw a card.\n",
            "{T}, {T}, Discard a card: Exile [CARDNAME]. Draw a card.\n",
            "{T}, {T}, Discard a card: Exile [CARDNAME]. Draw a card.\n",
            "Haste\\nWhen [CARDNAME] enters the battlefield, exile target creature an opponent controls until [CARDNAME] leaves the battlefield.\n",
            "Equipped creature gets +1/+0 for each creature with less than one life\n",
            "\n",
            "[300 | 725.35] loss=0.63 avg=0.65\n",
            "Saving checkpoint/run_2/model-300\n"
          ]
        }
      ],
      "source": [
        "sess = gpt2.start_tf_sess() #given initial modeling results i think we're going to have to split the card types\n",
        "\n",
        "gpt2.finetune(sess, run_name = 'run_2', dataset = 'text_fine_tune.txt', steps=300, print_every = 100, model_name='124M')"
      ]
    },
    {
      "cell_type": "code",
      "execution_count": 6,
      "metadata": {
        "colab": {
          "base_uri": "https://localhost:8080/"
        },
        "id": "NjiqKkgHkwNl",
        "outputId": "b9d673d7-388e-4740-a966-0803a83740dc"
      },
      "outputs": [
        {
          "name": "stdout",
          "output_type": "stream",
          "text": [
            "When [CARDNAME] enters the battlefield, it deals 3 damage to target player.\n",
            "Flying\\n{T}: [CARDNAME] deals 1 damage to target attacking or blocking creature.\n",
            "Flying\\n{T}: [CARDNAME] deals 1 damage to target attacking or blocking creature.\n",
            "Target creature gets +1/+0 and gains haste until end of turn. (It can attack and {T} this turn.)\n",
            "Target creature gets +1/+0 and gains haste until end of turn. (It can attack\n",
            "====================\n",
            "When [CARDNAME] enters the battlefield, choose target artifact you control. If you do, return [CARDNAME] from your graveyard to the battlefield.\n",
            "[CARDNAME] enters the battlefield tapped.\\n{T}: Add {U}.\\nCascade (When you cast this spell, exile cards from the top of your library until you exile a nonland card that costs less. You may cast it without paying its mana cost. You may cast it without paying its mana cost. Put the exiled cards on the\n",
            "====================\n",
            "When [CARDNAME] enters the battlefield, you may reveal a creature card from your hand and put that card on the top of your library.\n",
            "Choose one or more —\\n• Destroy target artifact.\\n• Destroy target creature with flying.\n",
            "Create X 1/1 white Soldier creature tokens, where X is the number of artifacts you control.\n",
            "[CARDNAME] enters the battlefield tapped.\\n{T}: Add {W}.\n",
            "[CARDNAME] enters the battlefield tapped.\\n{T}:\n",
            "====================\n",
            "When [CARDNAME] enters the battlefield, choose target opponent.\\nAt the beginning of that player's upkeep, that player sacrifices a creature.\n",
            "{B}, {T}, Sacrifice [CARDNAME]: Return target permanent with mana value 3 or less from your graveyard to the battlefield.\n",
            "[CARDNAME] enters the battlefield tapped.\\n{T}: Add {W}.\\nCycling {W} ({W}, Discard this card: Draw a card.)\n",
            "[CARDNAME] enters the battlefield tapped\n",
            "====================\n",
            "When [CARDNAME] enters the battlefield, if you cast it from your hand, exile it with a +1/+1 counter on it.\\n{1}{R}: [CARDNAME] becomes a 3/3 artifact creature until end of turn. It's still a land.\n",
            "Whenever a land enters the battlefield under an opponent's control, you may put a +1/+1 counter on [CARDNAME].\n",
            "Whenever [CARDNAME] deals combat damage to a player, you may put a +1/+\n",
            "====================\n",
            "When [CARDNAME] enters the battlefield, choose target card in your graveyard. If you cast it this turn, put that card's permanent onto the battlefield.\n",
            "[CARDNAME] deals 1 damage to any target.\n",
            "[CARDNAME] deals 1 damage to target creature.\n",
            "{T}: Add {C}.\\n{1}, {T}, Sacrifice [CARDNAME]: Draw a card.\n",
            "{T}: Add {C}.\\n{1}, {T}, Sacrifice [CARDNAME]: Draw a\n",
            "====================\n",
            "When [CARDNAME] enters the battlefield, you may look at the top card of your library. If it's a land card, put that card onto the battlefield. Otherwise, put that card into your hand.\n",
            "Flying\\nWhen [CARDNAME] enters the battlefield or is put into a graveyard, you may search your library for a basic land card, put it onto the battlefield, then shuffle.\n",
            "Vigilance\\nWhen [CARDNAME] enters the battlefield, you may reveal the top card of your library\n",
            "====================\n",
            "When [CARDNAME] enters the battlefield, it deals 1 damage to each creature without flying.\n",
            "[CARDNAME] enters the battlefield with X +1/+1 counters on it.\\n{1}, Remove X +1/+1 counters from [CARDNAME]: Put a +1/+1 counter on [CARDNAME].\n",
            "Enchant creature\\nEnchanted creature gets +2/+2.\n",
            "[CARDNAME] enters the battlefield with X +1/+1 counters on it.\\n{1},\n",
            "====================\n",
            "When [CARDNAME] enters the battlefield, you may return target creature card from your graveyard to your hand.\\nWhenever you cast a spell with a different mana value from that creature, put a +1/+1 counter on [CARDNAME].\n",
            "{T}: Add {G}, {U}, or {B}.\n",
            "{T}: Add {C}.\\n{1}, {T}, Sacrifice [CARDNAME]: Draw a card for each card in your hand.\n",
            "{T}: Add {C}.\\n\n",
            "====================\n",
            "When [CARDNAME] enters the battlefield, choose a land type.\\n{T}: Add {R} or {W}.\n",
            "[CARDNAME] enters the battlefield tapped.\\n{T}: Add {U} or {B}.\n",
            "[CARDNAME] enters the battlefield tapped.\\n{T}: Add {R} or {G}.\n",
            "[CARDNAME] enters the battlefield tapped.\\n{T}: Add {G} or {W}.\n",
            "[CARDNAME] enters the battlefield\n",
            "====================\n"
          ]
        }
      ],
      "source": [
        "gpt2.generate(sess, prefix = 'When [CARDNAME] enters the battlefield', temperature=.7, length=100, run_name = 'run_2', top_k=40, nsamples=10)\n"
      ]
    },
    {
      "cell_type": "code",
      "execution_count": null,
      "metadata": {
        "colab": {
          "base_uri": "https://localhost:8080/"
        },
        "id": "W_zW3m_DpwNm",
        "outputId": "9f22fd9d-6b3c-4324-b1c1-724f49ddc432"
      },
      "outputs": [
        {
          "name": "stdout",
          "output_type": "stream",
          "text": [
            "When [CARDNAME] enters the battlefield, look at the top four\n",
            "====================\n",
            "When [CARDNAME] enters the battlefield, exile target nonland permanent\n",
            "====================\n",
            "{2}{G}, Sacrifice [CARDNAME]: Search your library for\n",
            "====================\n",
            "Is this post post-apocalyptic? Yes No Unsure\n",
            "\n",
            "Is this\n",
            "====================\n",
            "Buy Photo The city council voted 2-1 to remove a historic black and\n",
            "====================\n",
            "You may cast a legendary instant or sorcery spell this turn.\n",
            "When [\n",
            "====================\n",
            "Cards in your graveyard are graveyardbound.\n",
            "{T}: Add {\n",
            "====================\n",
            "When [CARDNAME] enters the battlefield, look at target player's\n",
            "====================\n",
            "When [CARDNAME] enters the battlefield, return a creature card from\n",
            "====================\n",
            "The color of each creature you control is colorless.\\n{1\n",
            "====================\n"
          ]
        }
      ],
      "source": [
        "gpt2.generate(sess, temperature=.7, prefix = length=15, top_k=40, nsamples=10)\n"
      ]
    },
    {
      "cell_type": "code",
      "execution_count": null,
      "metadata": {
        "colab": {
          "base_uri": "https://localhost:8080/"
        },
        "id": "pLi1vNa9VzWe",
        "outputId": "fdd2c94c-eb44-49a5-b58e-ac4c030fe76a"
      },
      "outputs": [
        {
          "name": "stdout",
          "output_type": "stream",
          "text": [
            "make me a red goblin magic the gathering creature that costs 2 {R}{R} less to cast.\\n{R}{R}{R}{R}{R}{R}{R}, Sacrifice another creature: Add a lore counter.\\n{R}{R}{R}{R}, Sacrifice a creature: Add a lore counter.\n"
          ]
        }
      ],
      "source": [
        "gpt2.generate(sess, prefix = 'make me a red goblin magic the gathering creature that costs 2 {R}{R}', temperature=.7, length=50, top_k=40, nsamples=1)\n"
      ]
    },
    {
      "cell_type": "code",
      "execution_count": null,
      "metadata": {
        "colab": {
          "base_uri": "https://localhost:8080/"
        },
        "id": "PFkAD2oC4qsX",
        "outputId": "3b62cecc-f190-4851-89dd-3e330b0046f4"
      },
      "outputs": [
        {
          "name": "stdout",
          "output_type": "stream",
          "text": [
            "Drive already mounted at /content/drive; to attempt to forcibly remount, call drive.mount(\"/content/drive\", force_remount=True).\n"
          ]
        }
      ],
      "source": [
        "from google.colab import drive\n",
        "drive.mount('/content/drive')"
      ]
    },
    {
      "cell_type": "code",
      "execution_count": null,
      "metadata": {
        "colab": {
          "base_uri": "https://localhost:8080/"
        },
        "id": "qaNysGib93fs",
        "outputId": "16fe27d1-7faa-4b66-d93a-f9faadc42c78"
      },
      "outputs": [
        {
          "name": "stdout",
          "output_type": "stream",
          "text": [
            "/bin/bash: -c: line 1: syntax error near unexpected token `newline'\n",
            "/bin/bash: -c: line 1: `cp /content/drive/MyDrive/content/checkpoint <mtg models>'\n"
          ]
        }
      ],
      "source": [
        "!cp /content/drive/MyDrive/content/checkpoint <mtg models>"
      ]
    },
    {
      "cell_type": "code",
      "execution_count": null,
      "metadata": {
        "colab": {
          "base_uri": "https://localhost:8080/"
        },
        "id": "Ygi2xxpv-VFQ",
        "outputId": "84d74a8e-7413-488c-c42c-e4371521e72c"
      },
      "outputs": [
        {
          "name": "stdout",
          "output_type": "stream",
          "text": [
            "\tzip warning: name not matched: /content/checkpoint/run_2/\n",
            "\n",
            "zip error: Nothing to do! (try: zip -r model.zip . -i /content/checkpoint/run_2/)\n"
          ]
        }
      ],
      "source": [
        "!zip -r model.zip /content/checkpoint/run_2/"
      ]
    },
    {
      "cell_type": "code",
      "execution_count": null,
      "metadata": {
        "id": "DpoFwy5RZOOE"
      },
      "outputs": [],
      "source": []
    }
  ],
  "metadata": {
    "accelerator": "GPU",
    "colab": {
      "gpuType": "T4",
      "provenance": []
    },
    "kernelspec": {
      "display_name": "Python 3",
      "name": "python3"
    },
    "language_info": {
      "name": "python"
    }
  },
  "nbformat": 4,
  "nbformat_minor": 0
}
